{
  "nbformat": 4,
  "nbformat_minor": 0,
  "metadata": {
    "colab": {
      "name": "Python Data Science ecosystem Lab 1 [Python]",
      "provenance": [],
      "collapsed_sections": [],
      "include_colab_link": true
    },
    "kernelspec": {
      "name": "python3",
      "display_name": "Python 3"
    }
  },
  "cells": [
    {
      "cell_type": "markdown",
      "metadata": {
        "id": "view-in-github",
        "colab_type": "text"
      },
      "source": [
        "<a href=\"https://colab.research.google.com/github/jaswanttaur/Learn-Python/blob/main/Python_Data_Science_ecosystem_Lab_1_%5BPython%5D.ipynb\" target=\"_parent\"><img src=\"https://colab.research.google.com/assets/colab-badge.svg\" alt=\"Open In Colab\"/></a>"
      ]
    },
    {
      "cell_type": "code",
      "metadata": {
        "id": "vk_xnnqBXCdJ"
      },
      "source": [
        "#defining a variable\n",
        "\n",
        "x=3 #as integer\n",
        "y='7' #as string\n",
        "z=6.3 #as float\n",
        "print(x)"
      ],
      "execution_count": null,
      "outputs": []
    },
    {
      "cell_type": "code",
      "metadata": {
        "id": "-GHDU-f7XNIy"
      },
      "source": [
        "#adding different variables\n",
        "\n",
        "#lets say we want to get sum of all variables x, y, and z\n",
        "\n",
        "sum = x + int(y) + z #second argument in the int() is base which is optional and by default =10\n",
        "print(sum)\n",
        "\n",
        "print(type(x))\n",
        "print(type(y))\n",
        "print(type(z))\n",
        "print(type(sum)) \n",
        "'''\n",
        "other optional arguments for print()...\n",
        "file:  a file-like object (stream); defaults to the current sys.stdout.\n",
        "sep:   string inserted between values, default a space.\n",
        "end:   string appended after the last value, default a newline.\n",
        "flush: whether to forcibly flush the stream.\n",
        "'''"
      ],
      "execution_count": null,
      "outputs": []
    },
    {
      "cell_type": "code",
      "metadata": {
        "colab": {
          "base_uri": "https://localhost:8080/"
        },
        "id": "B9ddLYlcX3Vv",
        "outputId": "cc95100a-31ba-48b7-9919-39efe5390947"
      },
      "source": [
        "#get an integer sum\n",
        "\n",
        "sum = x + int(y) + int(z)\n",
        "print(sum)\n",
        "\n",
        "print(type(sum))"
      ],
      "execution_count": null,
      "outputs": [
        {
          "output_type": "stream",
          "text": [
            "16\n",
            "<class 'int'>\n"
          ],
          "name": "stdout"
        }
      ]
    },
    {
      "cell_type": "code",
      "metadata": {
        "colab": {
          "base_uri": "https://localhost:8080/"
        },
        "id": "FOg3Jr6pXg86",
        "outputId": "2c27cae6-df0e-46eb-cc4b-d3bdb3a8d974"
      },
      "source": [
        "#lets say we want to add them as a string\n",
        "\n",
        "sum = str(x) + y + str(z)\n",
        "print(sum)\n",
        "\n",
        "print(type(sum))\n",
        "name = 'Jaswant' + ' ' + 'Singh' + '\\t' + 'Taur'\n",
        "print(name)"
      ],
      "execution_count": null,
      "outputs": [
        {
          "output_type": "stream",
          "text": [
            "376.3\n",
            "<class 'str'>\n",
            "Jaswant Singh\tTaur\n"
          ],
          "name": "stdout"
        }
      ]
    },
    {
      "cell_type": "code",
      "metadata": {
        "id": "UUK63Nt7MjgW"
      },
      "source": [
        "#Introduction to list\n",
        "\n",
        "#let's first define a simple list \n",
        "l = [1,2,3,4,5,'Jaswant Singh Taur' , 7.3] #elements of list can be numbers, strings, another lists, tuples etc.\n",
        "print(l)\n",
        "print(type(l))"
      ],
      "execution_count": null,
      "outputs": []
    },
    {
      "cell_type": "code",
      "metadata": {
        "colab": {
          "base_uri": "https://localhost:8080/"
        },
        "id": "EMWyORTsWi-Q",
        "outputId": "dd831dc2-ce30-46e2-fcd4-0f0d8d28a940"
      },
      "source": [
        "#length of list defines the number of elements in the list\n",
        "\n",
        "print(len(l))"
      ],
      "execution_count": null,
      "outputs": [
        {
          "output_type": "stream",
          "text": [
            "7\n"
          ],
          "name": "stdout"
        }
      ]
    },
    {
      "cell_type": "code",
      "metadata": {
        "colab": {
          "base_uri": "https://localhost:8080/"
        },
        "id": "xqWJPcI8Q731",
        "outputId": "9087541d-ac89-4a62-e1a6-4f58e1c5b584"
      },
      "source": [
        "#append elements to list\n",
        "\n",
        "l.append('Computer Science') #adds element at the end\n",
        "l.append(7)\n",
        "print(l)"
      ],
      "execution_count": null,
      "outputs": [
        {
          "output_type": "stream",
          "text": [
            "[1, 2, 3, 4, 5, 'Jaswant Singh Taur', 7.3, 6, 'Computer Science', 'Computer Science', 7, 'Computer Science', 7, 'Computer Science', 7, 7, 'Computer Science', 'Computer Science', 7]\n"
          ],
          "name": "stdout"
        }
      ]
    },
    {
      "cell_type": "code",
      "metadata": {
        "colab": {
          "base_uri": "https://localhost:8080/"
        },
        "id": "4EF20CQERTg9",
        "outputId": "75be9397-b219-42e3-dadd-0426abc8e8a5"
      },
      "source": [
        "#insert elements to list\n",
        "\n",
        "l.insert(2,2.5)\n",
        "\n",
        "\n",
        "print(l)\n",
        "l.insert((len(l)-1),10)\n",
        "print(l)\n",
        "print(len(l))"
      ],
      "execution_count": null,
      "outputs": [
        {
          "output_type": "stream",
          "text": [
            "[1, 2, 2.5, 2.5, 2.5, 2.5, 2.5, 2.5, 2.5, 3, 4, 5, 'Jaswant Singh Taur', 10, 7.3]\n",
            "[1, 2, 2.5, 2.5, 2.5, 2.5, 2.5, 2.5, 2.5, 3, 4, 5, 'Jaswant Singh Taur', 10, 10, 7.3]\n",
            "16\n"
          ],
          "name": "stdout"
        }
      ]
    },
    {
      "cell_type": "code",
      "metadata": {
        "colab": {
          "base_uri": "https://localhost:8080/"
        },
        "id": "KmhoXQgJZXfP",
        "outputId": "5d9c16fc-a166-421d-f23b-655b67a5301a"
      },
      "source": [
        "#slicing of list\n",
        "i = [1,2,3,4,6,7]\n",
        "l_dash = l[2:4]\n",
        "last_elm = l[-1]\n",
        "print(l_dash)\n",
        "print(last_elm)\n",
        "\n",
        "#similarly same can be done for strings too"
      ],
      "execution_count": null,
      "outputs": [
        {
          "output_type": "stream",
          "text": [
            "[2.5, 2.5]\n",
            "7.3\n"
          ],
          "name": "stdout"
        }
      ]
    },
    {
      "cell_type": "code",
      "metadata": {
        "colab": {
          "base_uri": "https://localhost:8080/"
        },
        "id": "yxqXurH0QzC2",
        "outputId": "d5e07274-f780-47bc-e512-e55dba5534ae"
      },
      "source": [
        "#looping\n",
        "\n",
        "# \"for\" loop\n",
        "\n",
        "em_l = [] #define an empty list\n",
        "\n",
        "#create a list of strings of numbers ranging from 0 to 9\n",
        "for i in range(10):\n",
        "    em_l.append(str(i))\n",
        "\n",
        "print(em_l)"
      ],
      "execution_count": null,
      "outputs": [
        {
          "output_type": "stream",
          "text": [
            "['0', '1', '2', '3', '4', '5', '6', '7', '8', '9']\n"
          ],
          "name": "stdout"
        }
      ]
    },
    {
      "cell_type": "code",
      "metadata": {
        "colab": {
          "base_uri": "https://localhost:8080/"
        },
        "id": "pzLt9zisR-Yc",
        "outputId": "5a43e626-e59a-4ef7-824f-b13b36f90c45"
      },
      "source": [
        "#looping\n",
        "\n",
        "# \"for\" loop\n",
        "\n",
        "em_l = [] #define an empty list\n",
        "\n",
        "#create a list of strings of numbers ranging from 10 to 20\n",
        "for i in range(10,21): #you can also specify step in range()\n",
        "    em_l.append(str(i))\n",
        "\n",
        "print(em_l)"
      ],
      "execution_count": null,
      "outputs": [
        {
          "output_type": "stream",
          "text": [
            "['10', '11', '12', '13', '14', '15', '16', '17', '18', '19', '20']\n"
          ],
          "name": "stdout"
        }
      ]
    },
    {
      "cell_type": "code",
      "metadata": {
        "colab": {
          "base_uri": "https://localhost:8080/"
        },
        "id": "jmVMOWbzOAeN",
        "outputId": "140d526f-0bb6-4c95-b3a7-c2b532ea5ec1"
      },
      "source": [
        "#alternate way to create a list\n",
        "\n",
        "l = [str(i+1) for i in range(5)]\n",
        "print(l)"
      ],
      "execution_count": null,
      "outputs": [
        {
          "output_type": "stream",
          "text": [
            "['1', '2', '3', '4', '5']\n"
          ],
          "name": "stdout"
        }
      ]
    },
    {
      "cell_type": "code",
      "metadata": {
        "colab": {
          "base_uri": "https://localhost:8080/"
        },
        "id": "gL_9bHdYQZy7",
        "outputId": "4026c5e0-afe1-4cc2-a5be-6d1ba9963b26"
      },
      "source": [
        "#Factorial using For Loop\r\n",
        "\r\n",
        "num = int(input(\"enter a number: \"))\r\n",
        " \r\n",
        "fac = 1\r\n",
        " \r\n",
        "for i in range(1, num + 1):\r\n",
        "\tfac = fac * i\r\n",
        " \r\n",
        "print(\"factorial of \", num, \" is \", fac)"
      ],
      "execution_count": null,
      "outputs": [
        {
          "output_type": "stream",
          "text": [
            "enter a number: 5\n",
            "factorial of  5  is  120\n"
          ],
          "name": "stdout"
        }
      ]
    },
    {
      "cell_type": "code",
      "metadata": {
        "id": "o4nNE2e5OMIL"
      },
      "source": [
        "# \"while\" loop\n",
        "\n",
        "#lets use while loop to get factorial of a number\n",
        "\n",
        "factorial = 1\n",
        "inp = int(input())\n",
        "print(\"input is: \" + str(inp))\n",
        "i=1 \n",
        "\n",
        "while i<=inp:\n",
        "    factorial = factorial * i\n",
        "    i = i+1\n",
        "\n",
        "print(\"factorial of \"+str(inp) + \" is \" + str(factorial))"
      ],
      "execution_count": null,
      "outputs": []
    },
    {
      "cell_type": "code",
      "metadata": {
        "colab": {
          "base_uri": "https://localhost:8080/"
        },
        "id": "ya_fPlZvSqVp",
        "outputId": "4defebe9-f250-48f1-e7d6-0e11ffcd02f5"
      },
      "source": [
        "#dictionaries\n",
        "\n",
        "#let's say we have a dictionary of number students who are boys and number of students who are girls\n",
        "dict1 = {'boys':15, 'girls':20} #here 'boys' and 'girls' are called keys; and 15 and 20 are their values respeactively\n",
        "print(dict1)"
      ],
      "execution_count": null,
      "outputs": [
        {
          "output_type": "stream",
          "text": [
            "{'boys': 15, 'girls': 20}\n"
          ],
          "name": "stdout"
        }
      ]
    },
    {
      "cell_type": "code",
      "metadata": {
        "colab": {
          "base_uri": "https://localhost:8080/"
        },
        "id": "_YSIRhrOVJB0",
        "outputId": "1aceec3d-cd15-443a-a675-7a52e7ef1b76"
      },
      "source": [
        "#changing value of the key\n",
        "\n",
        "dict1['boys'] = 25\n",
        "print(dict1)"
      ],
      "execution_count": null,
      "outputs": [
        {
          "output_type": "stream",
          "text": [
            "{'boys': 25, 'girls': 20}\n"
          ],
          "name": "stdout"
        }
      ]
    },
    {
      "cell_type": "code",
      "metadata": {
        "colab": {
          "base_uri": "https://localhost:8080/"
        },
        "id": "YHDmDu6KVMxy",
        "outputId": "6dc54f50-079c-40ef-ff58-13bf67a5c956"
      },
      "source": [
        "#lets write a short program using dictionary to count number of occurences of 'chocolate' and 'cake' in a list\n",
        "\n",
        "l = ['chocolate','chocolate','cake','chocolate','cashew','chocolate','chocolate','cake','cake','cake','cake','chocolate','chocolate','chocolate','chocolate']\n",
        "\n",
        "counts = {'chocolate':0,'cake':0} #initilization of dictionary which will keep track of the counts\n",
        "\n",
        "for item in l:\n",
        "    if item=='chocolate':\n",
        "        counts['chocolate'] +=1\n",
        "    elif item =='cake':\n",
        "        counts['cake'] += 1\n",
        "\n",
        "print(counts)\n",
        "print(len(l))"
      ],
      "execution_count": null,
      "outputs": [
        {
          "output_type": "stream",
          "text": [
            "{'chocolate': 9, 'cake': 5}\n",
            "15\n"
          ],
          "name": "stdout"
        }
      ]
    },
    {
      "cell_type": "code",
      "metadata": {
        "colab": {
          "base_uri": "https://localhost:8080/"
        },
        "id": "aSCSF2QhWbTI",
        "outputId": "136c2124-8f4d-4b02-eca9-dd0e5c963a29"
      },
      "source": [
        "#working with keys and values of the dictionary\n",
        "\n",
        "dictx = {1:'cake',2:'chocolate',3:'pizza',4:'burger'} #lets say we have a simple list of menu of bakery \n",
        "#with serial number as key and dish name as value\n",
        "\n",
        "#get a list of dishes in the menu\n",
        "\n",
        "items_in_menu = []\n",
        "\n",
        "for key,value in dictx.items():\n",
        "    items_in_menu.append(value)\n",
        "\n",
        "print(items_in_menu)"
      ],
      "execution_count": null,
      "outputs": [
        {
          "output_type": "stream",
          "text": [
            "['cake', 'chocolate', 'pizza', 'burger']\n"
          ],
          "name": "stdout"
        }
      ]
    },
    {
      "cell_type": "code",
      "metadata": {
        "colab": {
          "base_uri": "https://localhost:8080/"
        },
        "id": "kbbh8mBxYZRe",
        "outputId": "3d8e1c04-f065-49f4-b2f7-853d02ac67aa"
      },
      "source": [
        "#sets - unordered list without repeatations\n",
        "\n",
        "set_A = {1,2,3,3,4,3,2}\n",
        "\n",
        "print(set_A)"
      ],
      "execution_count": null,
      "outputs": [
        {
          "output_type": "stream",
          "text": [
            "{1, 2, 3, 4}\n"
          ],
          "name": "stdout"
        }
      ]
    },
    {
      "cell_type": "code",
      "metadata": {
        "colab": {
          "base_uri": "https://localhost:8080/"
        },
        "id": "NUab88q1SctE",
        "outputId": "5cc21feb-09e4-4c21-ca7c-e35d8168d1ad"
      },
      "source": [
        "#converting list to set\n",
        "\n",
        "l = [1,2,3,4,5,4,3,2,2,3,3]\n",
        "print(l)\n",
        "\n",
        "l = set(l)\n",
        "print(l)"
      ],
      "execution_count": null,
      "outputs": [
        {
          "output_type": "stream",
          "text": [
            "[1, 2, 3, 4, 5, 4, 3, 2, 2, 3, 3]\n",
            "{1, 2, 3, 4, 5}\n"
          ],
          "name": "stdout"
        }
      ]
    },
    {
      "cell_type": "code",
      "metadata": {
        "colab": {
          "base_uri": "https://localhost:8080/"
        },
        "id": "ML9B1-fOSoZH",
        "outputId": "73f6fb5c-4c27-4601-c042-3886b404e61d"
      },
      "source": [
        "#basic file operations in python\n",
        "\n",
        "#first of all let's mount our google drive to the colab\n",
        "from google.colab import drive\n",
        "drive.mount('/content/drive')\n",
        "\n",
        "path = '/content/drive/My Drive/TEQIP/'\n",
        "\n",
        "#opening a file and writing into it\n",
        "file = open(path + 'TEQIP.txt','w') \n",
        "file.write(\"This is the write command \\r this line is after return \\n\") \n",
        "file.write(\"It allows us to write in a particular file \") \n",
        "file.write(\"It allows us to write in a particular file \\t with a tab also\") \n",
        "file.close()"
      ],
      "execution_count": null,
      "outputs": [
        {
          "output_type": "stream",
          "text": [
            "Mounted at /content/drive\n"
          ],
          "name": "stdout"
        }
      ]
    },
    {
      "cell_type": "code",
      "metadata": {
        "colab": {
          "base_uri": "https://localhost:8080/"
        },
        "id": "gzO4y0tZYe-r",
        "outputId": "6f453166-a728-482b-a0a6-94dc5af6531b"
      },
      "source": [
        "#lets now read the file that we wrote\n",
        "\n",
        "# a file named \"TEQIP\", will be opened with the reading mode. \n",
        "file = open(path + 'TEQIP.txt', 'r') \n",
        "# This will print every line in the file \n",
        "for each in file: \n",
        "    print (each) "
      ],
      "execution_count": null,
      "outputs": [
        {
          "output_type": "stream",
          "text": [
            "This is the write command \n",
            "\n",
            " this line is after return \n",
            "\n",
            "It allows us to write in a particular file It allows us to write in a particular file \t with a tab also\n"
          ],
          "name": "stdout"
        }
      ]
    },
    {
      "cell_type": "code",
      "metadata": {
        "colab": {
          "base_uri": "https://localhost:8080/"
        },
        "id": "zaRMPr7NZIqb",
        "outputId": "8106df92-2f89-4a86-963e-5c5fc7085c28"
      },
      "source": [
        "#basic function definitation\n",
        "\n",
        "def add(x,y):\n",
        "    result= x+y\n",
        "    return result\n",
        "\n",
        "add(2,3)"
      ],
      "execution_count": null,
      "outputs": [
        {
          "output_type": "execute_result",
          "data": {
            "text/plain": [
              "5"
            ]
          },
          "metadata": {
            "tags": []
          },
          "execution_count": 35
        }
      ]
    },
    {
      "cell_type": "code",
      "metadata": {
        "id": "nJygue8hacme"
      },
      "source": [
        "#basic class definitation\n",
        "\n",
        "#class for simple calculator \n",
        "class calc:\n",
        "    def __init__(self, x,y):\n",
        "        self.x = x\n",
        "        self.y = y\n",
        "    def add(self):\n",
        "        result= self.x+self.y\n",
        "        return result\n",
        "    def sub(self):\n",
        "        result= self.x-self.y\n",
        "        return result\n",
        "    def mul(self):\n",
        "        result= self.x*self.y\n",
        "        return result\n",
        "    def div(self):\n",
        "        result= self.x//self.y\n",
        "        return result"
      ],
      "execution_count": null,
      "outputs": []
    },
    {
      "cell_type": "code",
      "metadata": {
        "colab": {
          "base_uri": "https://localhost:8080/"
        },
        "id": "p-x9M6zpazCt",
        "outputId": "76b9c8fe-9ed5-4c52-826e-8fdf0663d044"
      },
      "source": [
        "c = calc(6,3)\n",
        "print(c.add())\n",
        "print(c.sub())\n",
        "print(c.mul())\n",
        "print(c.div())"
      ],
      "execution_count": null,
      "outputs": [
        {
          "output_type": "stream",
          "text": [
            "9\n",
            "3\n",
            "18\n",
            "2\n"
          ],
          "name": "stdout"
        }
      ]
    },
    {
      "cell_type": "code",
      "metadata": {
        "id": "DOCt6rKOa2kW"
      },
      "source": [
        ""
      ],
      "execution_count": null,
      "outputs": []
    }
  ]
}