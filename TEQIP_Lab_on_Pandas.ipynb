{
  "nbformat": 4,
  "nbformat_minor": 0,
  "metadata": {
    "colab": {
      "name": "TEQIP_Lab on Pandas.ipynb",
      "provenance": [],
      "collapsed_sections": [
        "wXx1qAKkJPxx"
      ],
      "include_colab_link": true
    },
    "kernelspec": {
      "name": "python3",
      "display_name": "Python 3"
    }
  },
  "cells": [
    {
      "cell_type": "markdown",
      "metadata": {
        "id": "view-in-github",
        "colab_type": "text"
      },
      "source": [
        "<a href=\"https://colab.research.google.com/github/jaswanttaur/Learn-Python/blob/main/TEQIP_Lab_on_Pandas.ipynb\" target=\"_parent\"><img src=\"https://colab.research.google.com/assets/colab-badge.svg\" alt=\"Open In Colab\"/></a>"
      ]
    },
    {
      "cell_type": "markdown",
      "metadata": {
        "id": "bAy3YQZg9zx4"
      },
      "source": [
        "# Data Manipulation with Pandas\r\n",
        "Pandas is a package built on top of NumPy, and provides an **efficient** implementation of a **DataFrame** Can be also thought of as a **Microsoft Excel** replacement in Python. DataFrames are essentially multidimensional tables with rows and columns, Pandas implements a number of powerful data operation tools familiar to users of both database frameworks and spreadsheet programs.\r\n",
        "\r\n",
        "\r\n",
        "## Installation\r\n",
        "One can simply install Pandas on their local system using ```pip install pandas```. Make sure that you have NumPy install beforehand (```pip install numpy```).\r\n",
        "\r\n",
        "\r\n",
        "> Considering, Google Colab already has all the built in packages, we don't need to worry.\r\n"
      ]
    },
    {
      "cell_type": "markdown",
      "metadata": {
        "id": "5qz3rITv_TAJ"
      },
      "source": [
        "## Verifying if pandas is installed correctly"
      ]
    },
    {
      "cell_type": "code",
      "metadata": {
        "colab": {
          "base_uri": "https://localhost:8080/"
        },
        "id": "C9FHCD7F9seh",
        "outputId": "f9d29169-d7ac-4bfe-fbb0-18b9619af970"
      },
      "source": [
        "import pandas as pd\r\n",
        "print(pd.__version__)"
      ],
      "execution_count": 1,
      "outputs": [
        {
          "output_type": "stream",
          "text": [
            "1.1.5\n"
          ],
          "name": "stdout"
        }
      ]
    },
    {
      "cell_type": "markdown",
      "metadata": {
        "id": "dfKvXeq6BVCG"
      },
      "source": [
        "## Making Spreadsheets from Python Objects.\r\n"
      ]
    },
    {
      "cell_type": "markdown",
      "metadata": {
        "id": "J7u0QM3T_qQw"
      },
      "source": [
        "### Basic Pandas Functionality.\r\n",
        "\r\n",
        "Making a dataframe.\r\n",
        "> ```df = pd.Dataframe(<data>)```\r\n",
        "\r\n",
        "Viewing the dataframe.\r\n",
        "> ```df``` or ```print(df)``` \r\n",
        "\r\n",
        "Viewing top rows.\r\n",
        ">```df.head(<no of rows)```\r\n",
        "\r\n",
        "Viewing bottom rows.\r\n",
        ">```df.tail(<no of rows>)```\r\n",
        "\r\n",
        "Some other useful methods.\r\n",
        "- ```df.describe()``` statistics of the data\r\n",
        "- ```df.info()``` information about the data\r\n",
        "- ```df.dtypes``` datatype per column\r\n",
        "- ```df.count()``` number of values per column\r\n"
      ]
    },
    {
      "cell_type": "markdown",
      "metadata": {
        "id": "9lwTbCYYBcgf"
      },
      "source": [
        "### DataFrames from Python Lists"
      ]
    },
    {
      "cell_type": "markdown",
      "metadata": {
        "id": "ED6k850e93Cw"
      },
      "source": [
        "In this section, we will be making our pandas dataframe using lists from Python. \r\n",
        "> To make our data frame, we need two things, the column names and the content for the table."
      ]
    },
    {
      "cell_type": "code",
      "metadata": {
        "id": "hB6CU69WBb2N"
      },
      "source": [
        "# First we decide the columns and name them. Lets make a student database for say.\r\n",
        "columnNames = [\"RollNumber\",\"Name\",\"Physics\",\"Chemistry\",\"Maths\"]\r\n",
        "\r\n",
        "# Now that we have our columns decided, lets fill some data. For data here \r\n",
        "# we are using lists.\r\n",
        "students = [[1,\"Naman\",98,90,93],[2,\"Ronak\",54,76,90],[3,\"Shyam\",90,48,86],[4,\"Harsh\",75,87,63],[5,\"Rajesh\",75,86,82]]"
      ],
      "execution_count": null,
      "outputs": []
    },
    {
      "cell_type": "markdown",
      "metadata": {
        "id": "KbTOha_X-TJC"
      },
      "source": [
        "Now that we have our data and column names, lets make our first pandas dataframe, for this we will use \r\n",
        ">```pd.DataFrame(<data>,columns=<columnnames>)```<br>\r\n",
        "> This function returns us a pandas dataframe filled with our data."
      ]
    },
    {
      "cell_type": "code",
      "metadata": {
        "colab": {
          "base_uri": "https://localhost:8080/",
          "height": 195
        },
        "id": "923JfooACJvN",
        "outputId": "5c60fb37-6a76-4367-faef-6200ebbc264f"
      },
      "source": [
        "# We save the dataframe in a variable.\r\n",
        "student_table = pd.DataFrame(students,columns=columnNames)\r\n",
        "\r\n",
        "# To view our dataframe we simply write its name or we can use the print function - print(<dataframe>).\r\n",
        "student_table"
      ],
      "execution_count": null,
      "outputs": [
        {
          "output_type": "execute_result",
          "data": {
            "text/html": [
              "<div>\n",
              "<style scoped>\n",
              "    .dataframe tbody tr th:only-of-type {\n",
              "        vertical-align: middle;\n",
              "    }\n",
              "\n",
              "    .dataframe tbody tr th {\n",
              "        vertical-align: top;\n",
              "    }\n",
              "\n",
              "    .dataframe thead th {\n",
              "        text-align: right;\n",
              "    }\n",
              "</style>\n",
              "<table border=\"1\" class=\"dataframe\">\n",
              "  <thead>\n",
              "    <tr style=\"text-align: right;\">\n",
              "      <th></th>\n",
              "      <th>RollNumber</th>\n",
              "      <th>Name</th>\n",
              "      <th>Physics</th>\n",
              "      <th>Chemistry</th>\n",
              "      <th>Maths</th>\n",
              "    </tr>\n",
              "  </thead>\n",
              "  <tbody>\n",
              "    <tr>\n",
              "      <th>0</th>\n",
              "      <td>1</td>\n",
              "      <td>Naman</td>\n",
              "      <td>98</td>\n",
              "      <td>90</td>\n",
              "      <td>93</td>\n",
              "    </tr>\n",
              "    <tr>\n",
              "      <th>1</th>\n",
              "      <td>2</td>\n",
              "      <td>Ronak</td>\n",
              "      <td>54</td>\n",
              "      <td>76</td>\n",
              "      <td>90</td>\n",
              "    </tr>\n",
              "    <tr>\n",
              "      <th>2</th>\n",
              "      <td>3</td>\n",
              "      <td>Shyam</td>\n",
              "      <td>90</td>\n",
              "      <td>48</td>\n",
              "      <td>86</td>\n",
              "    </tr>\n",
              "    <tr>\n",
              "      <th>3</th>\n",
              "      <td>4</td>\n",
              "      <td>Harsh</td>\n",
              "      <td>75</td>\n",
              "      <td>87</td>\n",
              "      <td>63</td>\n",
              "    </tr>\n",
              "    <tr>\n",
              "      <th>4</th>\n",
              "      <td>5</td>\n",
              "      <td>Rajesh</td>\n",
              "      <td>75</td>\n",
              "      <td>86</td>\n",
              "      <td>82</td>\n",
              "    </tr>\n",
              "  </tbody>\n",
              "</table>\n",
              "</div>"
            ],
            "text/plain": [
              "   RollNumber    Name  Physics  Chemistry  Maths\n",
              "0           1   Naman       98         90     93\n",
              "1           2   Ronak       54         76     90\n",
              "2           3   Shyam       90         48     86\n",
              "3           4   Harsh       75         87     63\n",
              "4           5  Rajesh       75         86     82"
            ]
          },
          "metadata": {
            "tags": []
          },
          "execution_count": 4
        }
      ]
    },
    {
      "cell_type": "markdown",
      "metadata": {
        "id": "YkNBhYvA_CoB"
      },
      "source": [
        "As we can see, pandas by default starts indexing the data from 0. But in our student database we want our indexing to be based on the rollnumber of the student.\r\n",
        "\r\n",
        "> To change the indexing, we use the function ```<dataframe>.set_index(<RowName>)```\r\n",
        "\r\n",
        ">**Note**: In pandas, every set of function we make on the dataframe shows us a view of the dataframe, which means that the orignal database is not changed. To make sure the orignal database is changed, we use the flag, ```inplace=True``` inside the functions\r\n"
      ]
    },
    {
      "cell_type": "code",
      "metadata": {
        "colab": {
          "base_uri": "https://localhost:8080/",
          "height": 225
        },
        "id": "7tfXYMvCClZ7",
        "outputId": "6ae052cb-36a3-414a-aac1-ad797a409bf8"
      },
      "source": [
        "# We set the RollNumber column as the indexing\r\n",
        "student_table.set_index(\"RollNumber\",inplace=True)\r\n",
        "\r\n",
        "# For viewing the changed dataset\r\n",
        "student_table"
      ],
      "execution_count": null,
      "outputs": [
        {
          "output_type": "execute_result",
          "data": {
            "text/html": [
              "<div>\n",
              "<style scoped>\n",
              "    .dataframe tbody tr th:only-of-type {\n",
              "        vertical-align: middle;\n",
              "    }\n",
              "\n",
              "    .dataframe tbody tr th {\n",
              "        vertical-align: top;\n",
              "    }\n",
              "\n",
              "    .dataframe thead th {\n",
              "        text-align: right;\n",
              "    }\n",
              "</style>\n",
              "<table border=\"1\" class=\"dataframe\">\n",
              "  <thead>\n",
              "    <tr style=\"text-align: right;\">\n",
              "      <th></th>\n",
              "      <th>Name</th>\n",
              "      <th>Physics</th>\n",
              "      <th>Chemistry</th>\n",
              "      <th>Maths</th>\n",
              "    </tr>\n",
              "    <tr>\n",
              "      <th>RollNumber</th>\n",
              "      <th></th>\n",
              "      <th></th>\n",
              "      <th></th>\n",
              "      <th></th>\n",
              "    </tr>\n",
              "  </thead>\n",
              "  <tbody>\n",
              "    <tr>\n",
              "      <th>1</th>\n",
              "      <td>Naman</td>\n",
              "      <td>98</td>\n",
              "      <td>90</td>\n",
              "      <td>93</td>\n",
              "    </tr>\n",
              "    <tr>\n",
              "      <th>2</th>\n",
              "      <td>Ronak</td>\n",
              "      <td>54</td>\n",
              "      <td>76</td>\n",
              "      <td>90</td>\n",
              "    </tr>\n",
              "    <tr>\n",
              "      <th>3</th>\n",
              "      <td>Shyam</td>\n",
              "      <td>90</td>\n",
              "      <td>48</td>\n",
              "      <td>86</td>\n",
              "    </tr>\n",
              "    <tr>\n",
              "      <th>4</th>\n",
              "      <td>Harsh</td>\n",
              "      <td>75</td>\n",
              "      <td>87</td>\n",
              "      <td>63</td>\n",
              "    </tr>\n",
              "    <tr>\n",
              "      <th>5</th>\n",
              "      <td>Rajesh</td>\n",
              "      <td>75</td>\n",
              "      <td>86</td>\n",
              "      <td>82</td>\n",
              "    </tr>\n",
              "  </tbody>\n",
              "</table>\n",
              "</div>"
            ],
            "text/plain": [
              "              Name  Physics  Chemistry  Maths\n",
              "RollNumber                                   \n",
              "1            Naman       98         90     93\n",
              "2            Ronak       54         76     90\n",
              "3            Shyam       90         48     86\n",
              "4            Harsh       75         87     63\n",
              "5           Rajesh       75         86     82"
            ]
          },
          "metadata": {
            "tags": []
          },
          "execution_count": 5
        }
      ]
    },
    {
      "cell_type": "markdown",
      "metadata": {
        "id": "Nc1jzi5LTlvM"
      },
      "source": [
        "Ahh crap! we forgot a student! Now we need to add him as well to our data frame. Lets do that, shall we?\r\n",
        "> we use ```<dataframe>.loc[<index>]``` to go row-wise in pandas. Here we are using the roll number of a student as an index.  "
      ]
    },
    {
      "cell_type": "code",
      "metadata": {
        "colab": {
          "base_uri": "https://localhost:8080/",
          "height": 254
        },
        "id": "R-XqoipCTth8",
        "outputId": "d43099c8-e99e-48a6-8328-aca007c84946"
      },
      "source": [
        "# Note, now that we index with Rollnumber we dont need to add rollnumber.\r\n",
        "new_student = [\"Jainam\",95,64,78]\r\n",
        "\r\n",
        "# Lets say the roll number of the student is 8\r\n",
        "student_table.loc[8] = new_student\r\n",
        "\r\n",
        "student_table"
      ],
      "execution_count": null,
      "outputs": [
        {
          "output_type": "execute_result",
          "data": {
            "text/html": [
              "<div>\n",
              "<style scoped>\n",
              "    .dataframe tbody tr th:only-of-type {\n",
              "        vertical-align: middle;\n",
              "    }\n",
              "\n",
              "    .dataframe tbody tr th {\n",
              "        vertical-align: top;\n",
              "    }\n",
              "\n",
              "    .dataframe thead th {\n",
              "        text-align: right;\n",
              "    }\n",
              "</style>\n",
              "<table border=\"1\" class=\"dataframe\">\n",
              "  <thead>\n",
              "    <tr style=\"text-align: right;\">\n",
              "      <th></th>\n",
              "      <th>Name</th>\n",
              "      <th>Physics</th>\n",
              "      <th>Chemistry</th>\n",
              "      <th>Maths</th>\n",
              "    </tr>\n",
              "    <tr>\n",
              "      <th>RollNumber</th>\n",
              "      <th></th>\n",
              "      <th></th>\n",
              "      <th></th>\n",
              "      <th></th>\n",
              "    </tr>\n",
              "  </thead>\n",
              "  <tbody>\n",
              "    <tr>\n",
              "      <th>1</th>\n",
              "      <td>Naman</td>\n",
              "      <td>98</td>\n",
              "      <td>90</td>\n",
              "      <td>93</td>\n",
              "    </tr>\n",
              "    <tr>\n",
              "      <th>2</th>\n",
              "      <td>Ronak</td>\n",
              "      <td>54</td>\n",
              "      <td>76</td>\n",
              "      <td>90</td>\n",
              "    </tr>\n",
              "    <tr>\n",
              "      <th>3</th>\n",
              "      <td>Shyam</td>\n",
              "      <td>90</td>\n",
              "      <td>48</td>\n",
              "      <td>86</td>\n",
              "    </tr>\n",
              "    <tr>\n",
              "      <th>4</th>\n",
              "      <td>Harsh</td>\n",
              "      <td>75</td>\n",
              "      <td>87</td>\n",
              "      <td>63</td>\n",
              "    </tr>\n",
              "    <tr>\n",
              "      <th>5</th>\n",
              "      <td>Rajesh</td>\n",
              "      <td>75</td>\n",
              "      <td>86</td>\n",
              "      <td>82</td>\n",
              "    </tr>\n",
              "    <tr>\n",
              "      <th>8</th>\n",
              "      <td>Jainam</td>\n",
              "      <td>95</td>\n",
              "      <td>64</td>\n",
              "      <td>78</td>\n",
              "    </tr>\n",
              "  </tbody>\n",
              "</table>\n",
              "</div>"
            ],
            "text/plain": [
              "              Name  Physics  Chemistry  Maths\n",
              "RollNumber                                   \n",
              "1            Naman       98         90     93\n",
              "2            Ronak       54         76     90\n",
              "3            Shyam       90         48     86\n",
              "4            Harsh       75         87     63\n",
              "5           Rajesh       75         86     82\n",
              "8           Jainam       95         64     78"
            ]
          },
          "metadata": {
            "tags": []
          },
          "execution_count": 6
        }
      ]
    },
    {
      "cell_type": "markdown",
      "metadata": {
        "id": "jvxBj_m-SWQa"
      },
      "source": [
        "Now, to add a column, for say a new subject marks. we can simply use \r\n",
        ">```<dataframe>[\"<Newcolumn>\"]=[<columndata>]```"
      ]
    },
    {
      "cell_type": "code",
      "metadata": {
        "colab": {
          "base_uri": "https://localhost:8080/",
          "height": 254
        },
        "id": "pyns0D_mSVnj",
        "outputId": "d1915db3-9e84-4743-ff93-0e8c7b9ba456"
      },
      "source": [
        "# Lets add the new subject column first\r\n",
        "bio = [97,56,58,85,78,82]\r\n",
        "student_table[\"Biology\"] = bio \r\n",
        "\r\n",
        "student_table"
      ],
      "execution_count": null,
      "outputs": [
        {
          "output_type": "execute_result",
          "data": {
            "text/html": [
              "<div>\n",
              "<style scoped>\n",
              "    .dataframe tbody tr th:only-of-type {\n",
              "        vertical-align: middle;\n",
              "    }\n",
              "\n",
              "    .dataframe tbody tr th {\n",
              "        vertical-align: top;\n",
              "    }\n",
              "\n",
              "    .dataframe thead th {\n",
              "        text-align: right;\n",
              "    }\n",
              "</style>\n",
              "<table border=\"1\" class=\"dataframe\">\n",
              "  <thead>\n",
              "    <tr style=\"text-align: right;\">\n",
              "      <th></th>\n",
              "      <th>Name</th>\n",
              "      <th>Physics</th>\n",
              "      <th>Chemistry</th>\n",
              "      <th>Maths</th>\n",
              "      <th>Biology</th>\n",
              "    </tr>\n",
              "    <tr>\n",
              "      <th>RollNumber</th>\n",
              "      <th></th>\n",
              "      <th></th>\n",
              "      <th></th>\n",
              "      <th></th>\n",
              "      <th></th>\n",
              "    </tr>\n",
              "  </thead>\n",
              "  <tbody>\n",
              "    <tr>\n",
              "      <th>1</th>\n",
              "      <td>Naman</td>\n",
              "      <td>98</td>\n",
              "      <td>90</td>\n",
              "      <td>93</td>\n",
              "      <td>97</td>\n",
              "    </tr>\n",
              "    <tr>\n",
              "      <th>2</th>\n",
              "      <td>Ronak</td>\n",
              "      <td>54</td>\n",
              "      <td>76</td>\n",
              "      <td>90</td>\n",
              "      <td>56</td>\n",
              "    </tr>\n",
              "    <tr>\n",
              "      <th>3</th>\n",
              "      <td>Shyam</td>\n",
              "      <td>90</td>\n",
              "      <td>48</td>\n",
              "      <td>86</td>\n",
              "      <td>58</td>\n",
              "    </tr>\n",
              "    <tr>\n",
              "      <th>4</th>\n",
              "      <td>Harsh</td>\n",
              "      <td>75</td>\n",
              "      <td>87</td>\n",
              "      <td>63</td>\n",
              "      <td>85</td>\n",
              "    </tr>\n",
              "    <tr>\n",
              "      <th>5</th>\n",
              "      <td>Rajesh</td>\n",
              "      <td>75</td>\n",
              "      <td>86</td>\n",
              "      <td>82</td>\n",
              "      <td>78</td>\n",
              "    </tr>\n",
              "    <tr>\n",
              "      <th>8</th>\n",
              "      <td>Jainam</td>\n",
              "      <td>95</td>\n",
              "      <td>64</td>\n",
              "      <td>78</td>\n",
              "      <td>82</td>\n",
              "    </tr>\n",
              "  </tbody>\n",
              "</table>\n",
              "</div>"
            ],
            "text/plain": [
              "              Name  Physics  Chemistry  Maths  Biology\n",
              "RollNumber                                            \n",
              "1            Naman       98         90     93       97\n",
              "2            Ronak       54         76     90       56\n",
              "3            Shyam       90         48     86       58\n",
              "4            Harsh       75         87     63       85\n",
              "5           Rajesh       75         86     82       78\n",
              "8           Jainam       95         64     78       82"
            ]
          },
          "metadata": {
            "tags": []
          },
          "execution_count": 7
        }
      ]
    },
    {
      "cell_type": "markdown",
      "metadata": {
        "id": "PveuTxMETBOR"
      },
      "source": [
        "Now lets say we need one more column for the total marks. One way we can do this is manually count all the totals. \r\n",
        "\r\n",
        "But the better way will be to ask pandas to do it for us."
      ]
    },
    {
      "cell_type": "code",
      "metadata": {
        "colab": {
          "base_uri": "https://localhost:8080/",
          "height": 254
        },
        "id": "g-Tq6q5DTAds",
        "outputId": "d749a6bb-b2e4-4bd0-b047-2d5c353344d9"
      },
      "source": [
        "# Making a new column by panadas operation\r\n",
        "student_table[\"Total\"] = student_table[\"Physics\"]+student_table[\"Maths\"]+student_table[\"Chemistry\"]+student_table[\"Biology\"]\r\n",
        "\r\n",
        "student_table"
      ],
      "execution_count": null,
      "outputs": [
        {
          "output_type": "execute_result",
          "data": {
            "text/html": [
              "<div>\n",
              "<style scoped>\n",
              "    .dataframe tbody tr th:only-of-type {\n",
              "        vertical-align: middle;\n",
              "    }\n",
              "\n",
              "    .dataframe tbody tr th {\n",
              "        vertical-align: top;\n",
              "    }\n",
              "\n",
              "    .dataframe thead th {\n",
              "        text-align: right;\n",
              "    }\n",
              "</style>\n",
              "<table border=\"1\" class=\"dataframe\">\n",
              "  <thead>\n",
              "    <tr style=\"text-align: right;\">\n",
              "      <th></th>\n",
              "      <th>Name</th>\n",
              "      <th>Physics</th>\n",
              "      <th>Chemistry</th>\n",
              "      <th>Maths</th>\n",
              "      <th>Biology</th>\n",
              "      <th>Total</th>\n",
              "    </tr>\n",
              "    <tr>\n",
              "      <th>RollNumber</th>\n",
              "      <th></th>\n",
              "      <th></th>\n",
              "      <th></th>\n",
              "      <th></th>\n",
              "      <th></th>\n",
              "      <th></th>\n",
              "    </tr>\n",
              "  </thead>\n",
              "  <tbody>\n",
              "    <tr>\n",
              "      <th>1</th>\n",
              "      <td>Naman</td>\n",
              "      <td>98</td>\n",
              "      <td>90</td>\n",
              "      <td>93</td>\n",
              "      <td>97</td>\n",
              "      <td>378</td>\n",
              "    </tr>\n",
              "    <tr>\n",
              "      <th>2</th>\n",
              "      <td>Ronak</td>\n",
              "      <td>54</td>\n",
              "      <td>76</td>\n",
              "      <td>90</td>\n",
              "      <td>56</td>\n",
              "      <td>276</td>\n",
              "    </tr>\n",
              "    <tr>\n",
              "      <th>3</th>\n",
              "      <td>Shyam</td>\n",
              "      <td>90</td>\n",
              "      <td>48</td>\n",
              "      <td>86</td>\n",
              "      <td>58</td>\n",
              "      <td>282</td>\n",
              "    </tr>\n",
              "    <tr>\n",
              "      <th>4</th>\n",
              "      <td>Harsh</td>\n",
              "      <td>75</td>\n",
              "      <td>87</td>\n",
              "      <td>63</td>\n",
              "      <td>85</td>\n",
              "      <td>310</td>\n",
              "    </tr>\n",
              "    <tr>\n",
              "      <th>5</th>\n",
              "      <td>Rajesh</td>\n",
              "      <td>75</td>\n",
              "      <td>86</td>\n",
              "      <td>82</td>\n",
              "      <td>78</td>\n",
              "      <td>321</td>\n",
              "    </tr>\n",
              "    <tr>\n",
              "      <th>8</th>\n",
              "      <td>Jainam</td>\n",
              "      <td>95</td>\n",
              "      <td>64</td>\n",
              "      <td>78</td>\n",
              "      <td>82</td>\n",
              "      <td>319</td>\n",
              "    </tr>\n",
              "  </tbody>\n",
              "</table>\n",
              "</div>"
            ],
            "text/plain": [
              "              Name  Physics  Chemistry  Maths  Biology  Total\n",
              "RollNumber                                                   \n",
              "1            Naman       98         90     93       97    378\n",
              "2            Ronak       54         76     90       56    276\n",
              "3            Shyam       90         48     86       58    282\n",
              "4            Harsh       75         87     63       85    310\n",
              "5           Rajesh       75         86     82       78    321\n",
              "8           Jainam       95         64     78       82    319"
            ]
          },
          "metadata": {
            "tags": []
          },
          "execution_count": 8
        }
      ]
    },
    {
      "cell_type": "markdown",
      "metadata": {
        "id": "FXTIGCX_Il8L"
      },
      "source": [
        "Getting values above a threshold in some column\r\n"
      ]
    },
    {
      "cell_type": "code",
      "metadata": {
        "colab": {
          "base_uri": "https://localhost:8080/",
          "height": 166
        },
        "id": "CqUwTAnjFqLO",
        "outputId": "7e8d650a-8ece-4bac-d7df-6e7af04b9087"
      },
      "source": [
        "threshold = 85\n",
        "subject = \"Maths\" # Maths, Physics Chemistry or any other column name\n",
        "\n",
        "student_table[student_table[subject]>=threshold]"
      ],
      "execution_count": null,
      "outputs": [
        {
          "output_type": "execute_result",
          "data": {
            "text/html": [
              "<div>\n",
              "<style scoped>\n",
              "    .dataframe tbody tr th:only-of-type {\n",
              "        vertical-align: middle;\n",
              "    }\n",
              "\n",
              "    .dataframe tbody tr th {\n",
              "        vertical-align: top;\n",
              "    }\n",
              "\n",
              "    .dataframe thead th {\n",
              "        text-align: right;\n",
              "    }\n",
              "</style>\n",
              "<table border=\"1\" class=\"dataframe\">\n",
              "  <thead>\n",
              "    <tr style=\"text-align: right;\">\n",
              "      <th></th>\n",
              "      <th>Name</th>\n",
              "      <th>Physics</th>\n",
              "      <th>Chemistry</th>\n",
              "      <th>Maths</th>\n",
              "      <th>Biology</th>\n",
              "      <th>Total</th>\n",
              "    </tr>\n",
              "    <tr>\n",
              "      <th>RollNumber</th>\n",
              "      <th></th>\n",
              "      <th></th>\n",
              "      <th></th>\n",
              "      <th></th>\n",
              "      <th></th>\n",
              "      <th></th>\n",
              "    </tr>\n",
              "  </thead>\n",
              "  <tbody>\n",
              "    <tr>\n",
              "      <th>1</th>\n",
              "      <td>Naman</td>\n",
              "      <td>98</td>\n",
              "      <td>90</td>\n",
              "      <td>93</td>\n",
              "      <td>97</td>\n",
              "      <td>378</td>\n",
              "    </tr>\n",
              "    <tr>\n",
              "      <th>2</th>\n",
              "      <td>Ronak</td>\n",
              "      <td>54</td>\n",
              "      <td>76</td>\n",
              "      <td>90</td>\n",
              "      <td>56</td>\n",
              "      <td>276</td>\n",
              "    </tr>\n",
              "    <tr>\n",
              "      <th>3</th>\n",
              "      <td>Shyam</td>\n",
              "      <td>90</td>\n",
              "      <td>48</td>\n",
              "      <td>86</td>\n",
              "      <td>58</td>\n",
              "      <td>282</td>\n",
              "    </tr>\n",
              "  </tbody>\n",
              "</table>\n",
              "</div>"
            ],
            "text/plain": [
              "             Name  Physics  Chemistry  Maths  Biology  Total\n",
              "RollNumber                                                  \n",
              "1           Naman       98         90     93       97    378\n",
              "2           Ronak       54         76     90       56    276\n",
              "3           Shyam       90         48     86       58    282"
            ]
          },
          "metadata": {
            "tags": []
          },
          "execution_count": 9
        }
      ]
    },
    {
      "cell_type": "markdown",
      "metadata": {
        "id": "VRPaLXgPIciz"
      },
      "source": [
        "Sorting by a column name"
      ]
    },
    {
      "cell_type": "code",
      "metadata": {
        "colab": {
          "base_uri": "https://localhost:8080/",
          "height": 254
        },
        "id": "kpNCzZcbHoE7",
        "outputId": "d3e586ca-69c0-421c-818d-384a289b2f70"
      },
      "source": [
        "subject = \"Physics\" # Maths, Physics Chemistry or any other column name\n",
        "highestfirst = True\n",
        "\n",
        "student_table.sort_values(subject,ascending = not highestfirst)"
      ],
      "execution_count": null,
      "outputs": [
        {
          "output_type": "execute_result",
          "data": {
            "text/html": [
              "<div>\n",
              "<style scoped>\n",
              "    .dataframe tbody tr th:only-of-type {\n",
              "        vertical-align: middle;\n",
              "    }\n",
              "\n",
              "    .dataframe tbody tr th {\n",
              "        vertical-align: top;\n",
              "    }\n",
              "\n",
              "    .dataframe thead th {\n",
              "        text-align: right;\n",
              "    }\n",
              "</style>\n",
              "<table border=\"1\" class=\"dataframe\">\n",
              "  <thead>\n",
              "    <tr style=\"text-align: right;\">\n",
              "      <th></th>\n",
              "      <th>Name</th>\n",
              "      <th>Physics</th>\n",
              "      <th>Chemistry</th>\n",
              "      <th>Maths</th>\n",
              "      <th>Biology</th>\n",
              "      <th>Total</th>\n",
              "    </tr>\n",
              "    <tr>\n",
              "      <th>RollNumber</th>\n",
              "      <th></th>\n",
              "      <th></th>\n",
              "      <th></th>\n",
              "      <th></th>\n",
              "      <th></th>\n",
              "      <th></th>\n",
              "    </tr>\n",
              "  </thead>\n",
              "  <tbody>\n",
              "    <tr>\n",
              "      <th>1</th>\n",
              "      <td>Naman</td>\n",
              "      <td>98</td>\n",
              "      <td>90</td>\n",
              "      <td>93</td>\n",
              "      <td>97</td>\n",
              "      <td>378</td>\n",
              "    </tr>\n",
              "    <tr>\n",
              "      <th>8</th>\n",
              "      <td>Jainam</td>\n",
              "      <td>95</td>\n",
              "      <td>64</td>\n",
              "      <td>78</td>\n",
              "      <td>82</td>\n",
              "      <td>319</td>\n",
              "    </tr>\n",
              "    <tr>\n",
              "      <th>3</th>\n",
              "      <td>Shyam</td>\n",
              "      <td>90</td>\n",
              "      <td>48</td>\n",
              "      <td>86</td>\n",
              "      <td>58</td>\n",
              "      <td>282</td>\n",
              "    </tr>\n",
              "    <tr>\n",
              "      <th>4</th>\n",
              "      <td>Harsh</td>\n",
              "      <td>75</td>\n",
              "      <td>87</td>\n",
              "      <td>63</td>\n",
              "      <td>85</td>\n",
              "      <td>310</td>\n",
              "    </tr>\n",
              "    <tr>\n",
              "      <th>5</th>\n",
              "      <td>Rajesh</td>\n",
              "      <td>75</td>\n",
              "      <td>86</td>\n",
              "      <td>82</td>\n",
              "      <td>78</td>\n",
              "      <td>321</td>\n",
              "    </tr>\n",
              "    <tr>\n",
              "      <th>2</th>\n",
              "      <td>Ronak</td>\n",
              "      <td>54</td>\n",
              "      <td>76</td>\n",
              "      <td>90</td>\n",
              "      <td>56</td>\n",
              "      <td>276</td>\n",
              "    </tr>\n",
              "  </tbody>\n",
              "</table>\n",
              "</div>"
            ],
            "text/plain": [
              "              Name  Physics  Chemistry  Maths  Biology  Total\n",
              "RollNumber                                                   \n",
              "1            Naman       98         90     93       97    378\n",
              "8           Jainam       95         64     78       82    319\n",
              "3            Shyam       90         48     86       58    282\n",
              "4            Harsh       75         87     63       85    310\n",
              "5           Rajesh       75         86     82       78    321\n",
              "2            Ronak       54         76     90       56    276"
            ]
          },
          "metadata": {
            "tags": []
          },
          "execution_count": 10
        }
      ]
    },
    {
      "cell_type": "markdown",
      "metadata": {
        "id": "KzxOz4TNEBdx"
      },
      "source": [
        "### Dataframes from Python Dictionaries"
      ]
    },
    {
      "cell_type": "code",
      "metadata": {
        "id": "uk0GUrC4D40k"
      },
      "source": [
        "cars = {\"Company\":[\"Toyata\",\"Suziki\",\"Audi\",\"Honda\",\"Skoda\"],\"Car Prices\":[10000,8000,15000,9000,12000],\"Colour\":[\"Black\",\"White\",\"Black\",\"Grey\",\"Brown\"]}"
      ],
      "execution_count": null,
      "outputs": []
    },
    {
      "cell_type": "code",
      "metadata": {
        "colab": {
          "base_uri": "https://localhost:8080/",
          "height": 195
        },
        "id": "MmWKnD5fFCmX",
        "outputId": "a1c3ca82-5989-403c-e5f7-d470b3906bdd"
      },
      "source": [
        "cars_table = pd.DataFrame(cars)\r\n",
        "cars_table.index = cars_table.index + 1\r\n",
        "cars_table"
      ],
      "execution_count": null,
      "outputs": [
        {
          "output_type": "execute_result",
          "data": {
            "text/html": [
              "<div>\n",
              "<style scoped>\n",
              "    .dataframe tbody tr th:only-of-type {\n",
              "        vertical-align: middle;\n",
              "    }\n",
              "\n",
              "    .dataframe tbody tr th {\n",
              "        vertical-align: top;\n",
              "    }\n",
              "\n",
              "    .dataframe thead th {\n",
              "        text-align: right;\n",
              "    }\n",
              "</style>\n",
              "<table border=\"1\" class=\"dataframe\">\n",
              "  <thead>\n",
              "    <tr style=\"text-align: right;\">\n",
              "      <th></th>\n",
              "      <th>Company</th>\n",
              "      <th>Car Prices</th>\n",
              "      <th>Colour</th>\n",
              "    </tr>\n",
              "  </thead>\n",
              "  <tbody>\n",
              "    <tr>\n",
              "      <th>1</th>\n",
              "      <td>Toyata</td>\n",
              "      <td>10000</td>\n",
              "      <td>Black</td>\n",
              "    </tr>\n",
              "    <tr>\n",
              "      <th>2</th>\n",
              "      <td>Suziki</td>\n",
              "      <td>8000</td>\n",
              "      <td>White</td>\n",
              "    </tr>\n",
              "    <tr>\n",
              "      <th>3</th>\n",
              "      <td>Audi</td>\n",
              "      <td>15000</td>\n",
              "      <td>Black</td>\n",
              "    </tr>\n",
              "    <tr>\n",
              "      <th>4</th>\n",
              "      <td>Honda</td>\n",
              "      <td>9000</td>\n",
              "      <td>Grey</td>\n",
              "    </tr>\n",
              "    <tr>\n",
              "      <th>5</th>\n",
              "      <td>Skoda</td>\n",
              "      <td>12000</td>\n",
              "      <td>Brown</td>\n",
              "    </tr>\n",
              "  </tbody>\n",
              "</table>\n",
              "</div>"
            ],
            "text/plain": [
              "  Company  Car Prices Colour\n",
              "1  Toyata       10000  Black\n",
              "2  Suziki        8000  White\n",
              "3    Audi       15000  Black\n",
              "4   Honda        9000   Grey\n",
              "5   Skoda       12000  Brown"
            ]
          },
          "metadata": {
            "tags": []
          },
          "execution_count": 12
        }
      ]
    },
    {
      "cell_type": "markdown",
      "metadata": {
        "id": "FcNjZ-sZJxLw"
      },
      "source": [
        "Grouping data according to a column"
      ]
    },
    {
      "cell_type": "code",
      "metadata": {
        "colab": {
          "base_uri": "https://localhost:8080/",
          "height": 225
        },
        "id": "MTSp4LAvJwk1",
        "outputId": "d2bd77e3-ca54-495e-cb27-7f83b5372cdb"
      },
      "source": [
        "coloured_groups = cars_table.groupby(['Colour','Company'])\r\n",
        "coloured_groups.first()"
      ],
      "execution_count": null,
      "outputs": [
        {
          "output_type": "execute_result",
          "data": {
            "text/html": [
              "<div>\n",
              "<style scoped>\n",
              "    .dataframe tbody tr th:only-of-type {\n",
              "        vertical-align: middle;\n",
              "    }\n",
              "\n",
              "    .dataframe tbody tr th {\n",
              "        vertical-align: top;\n",
              "    }\n",
              "\n",
              "    .dataframe thead th {\n",
              "        text-align: right;\n",
              "    }\n",
              "</style>\n",
              "<table border=\"1\" class=\"dataframe\">\n",
              "  <thead>\n",
              "    <tr style=\"text-align: right;\">\n",
              "      <th></th>\n",
              "      <th></th>\n",
              "      <th>Car Prices</th>\n",
              "    </tr>\n",
              "    <tr>\n",
              "      <th>Colour</th>\n",
              "      <th>Company</th>\n",
              "      <th></th>\n",
              "    </tr>\n",
              "  </thead>\n",
              "  <tbody>\n",
              "    <tr>\n",
              "      <th rowspan=\"2\" valign=\"top\">Black</th>\n",
              "      <th>Audi</th>\n",
              "      <td>15000</td>\n",
              "    </tr>\n",
              "    <tr>\n",
              "      <th>Toyata</th>\n",
              "      <td>10000</td>\n",
              "    </tr>\n",
              "    <tr>\n",
              "      <th>Brown</th>\n",
              "      <th>Skoda</th>\n",
              "      <td>12000</td>\n",
              "    </tr>\n",
              "    <tr>\n",
              "      <th>Grey</th>\n",
              "      <th>Honda</th>\n",
              "      <td>9000</td>\n",
              "    </tr>\n",
              "    <tr>\n",
              "      <th>White</th>\n",
              "      <th>Suziki</th>\n",
              "      <td>8000</td>\n",
              "    </tr>\n",
              "  </tbody>\n",
              "</table>\n",
              "</div>"
            ],
            "text/plain": [
              "                Car Prices\n",
              "Colour Company            \n",
              "Black  Audi          15000\n",
              "       Toyata        10000\n",
              "Brown  Skoda         12000\n",
              "Grey   Honda          9000\n",
              "White  Suziki         8000"
            ]
          },
          "metadata": {
            "tags": []
          },
          "execution_count": 13
        }
      ]
    },
    {
      "cell_type": "markdown",
      "metadata": {
        "id": "eRyDB3mdD5cp"
      },
      "source": [
        "# Reading spreadsheet files"
      ]
    },
    {
      "cell_type": "markdown",
      "metadata": {
        "id": "SnD177TvPz5g"
      },
      "source": [
        "Donloading our dummy data to work with"
      ]
    },
    {
      "cell_type": "code",
      "metadata": {
        "id": "JOXoygZN_ZkX"
      },
      "source": [
        "!wget https://raw.githubusercontent.com/justmarkham/DAT8/master/data/chipotle.tsv -q"
      ],
      "execution_count": null,
      "outputs": []
    },
    {
      "cell_type": "markdown",
      "metadata": {
        "id": "4MtxS0BsSCsf"
      },
      "source": [
        "## About Our Dataset\r\n",
        "The chipotle dataset contains a set of orders that were made at the Chipotle restraunt, Chipotle is a fast food chain similiar to MCDonalds.\r\n",
        "\r\n",
        "Here we have details about what people ordered on a particular day at chipotle. We have the items that were ordered and their corresponding order ids. \r\n",
        "\r\n",
        "Importing our dataset we use ```mydata = pd.read_csv('chipotle.tsv',sep=\"\\t\")``` as our dataset is in form of a tsv file. tsv stands for tab seperated values.\r\n",
        "\r\n",
        "- For a conventional excel data, one can use\r\n",
        "> ```mydata = pd.read_xlsx('file.xlsx')```\r\n",
        "  [extra documentation](https://pandas.pydata.org/pandas-docs/stable/reference/api/pandas.read_excel.html) \r\n",
        "\r\n",
        "- For csv files (comma seperated files)\r\n",
        "> ```mydata = pd.read_csv('file.csv')```\r\n",
        "  [extra documentation](https://pandas.pydata.org/pandas-docs/stable/reference/api/pandas.read_csv.html) \r\n",
        "- For any other filetypes <br>\r\n",
        "https://pandas.pydata.org/pandas-docs/stable/reference/io.html\r\n",
        "\r\n",
        "\r\n"
      ]
    },
    {
      "cell_type": "code",
      "metadata": {
        "colab": {
          "base_uri": "https://localhost:8080/",
          "height": 402
        },
        "id": "eH2ZRGUlAzkN",
        "outputId": "45501f5a-25b0-4bf0-a6ad-7e7a1fc3c808"
      },
      "source": [
        "# Reading our file chipotle.tsv\r\n",
        "mydata = pd.read_csv('chipotle.tsv',sep=\"\\t\") \r\n",
        "\r\n",
        "# Correcting indexing\r\n",
        "mydata.index = mydata.index + 1\r\n",
        "\r\n",
        "# Removing extra columns\r\n",
        "mydata.drop(\"choice_description\",axis = 1,inplace=True)\r\n",
        "\r\n",
        "mydata"
      ],
      "execution_count": null,
      "outputs": [
        {
          "output_type": "execute_result",
          "data": {
            "text/html": [
              "<div>\n",
              "<style scoped>\n",
              "    .dataframe tbody tr th:only-of-type {\n",
              "        vertical-align: middle;\n",
              "    }\n",
              "\n",
              "    .dataframe tbody tr th {\n",
              "        vertical-align: top;\n",
              "    }\n",
              "\n",
              "    .dataframe thead th {\n",
              "        text-align: right;\n",
              "    }\n",
              "</style>\n",
              "<table border=\"1\" class=\"dataframe\">\n",
              "  <thead>\n",
              "    <tr style=\"text-align: right;\">\n",
              "      <th></th>\n",
              "      <th>order_id</th>\n",
              "      <th>quantity</th>\n",
              "      <th>item_name</th>\n",
              "      <th>item_price</th>\n",
              "    </tr>\n",
              "  </thead>\n",
              "  <tbody>\n",
              "    <tr>\n",
              "      <th>1</th>\n",
              "      <td>1</td>\n",
              "      <td>1</td>\n",
              "      <td>Chips and Fresh Tomato Salsa</td>\n",
              "      <td>$2.39</td>\n",
              "    </tr>\n",
              "    <tr>\n",
              "      <th>2</th>\n",
              "      <td>1</td>\n",
              "      <td>1</td>\n",
              "      <td>Izze</td>\n",
              "      <td>$3.39</td>\n",
              "    </tr>\n",
              "    <tr>\n",
              "      <th>3</th>\n",
              "      <td>1</td>\n",
              "      <td>1</td>\n",
              "      <td>Nantucket Nectar</td>\n",
              "      <td>$3.39</td>\n",
              "    </tr>\n",
              "    <tr>\n",
              "      <th>4</th>\n",
              "      <td>1</td>\n",
              "      <td>1</td>\n",
              "      <td>Chips and Tomatillo-Green Chili Salsa</td>\n",
              "      <td>$2.39</td>\n",
              "    </tr>\n",
              "    <tr>\n",
              "      <th>5</th>\n",
              "      <td>2</td>\n",
              "      <td>2</td>\n",
              "      <td>Chicken Bowl</td>\n",
              "      <td>$16.98</td>\n",
              "    </tr>\n",
              "    <tr>\n",
              "      <th>...</th>\n",
              "      <td>...</td>\n",
              "      <td>...</td>\n",
              "      <td>...</td>\n",
              "      <td>...</td>\n",
              "    </tr>\n",
              "    <tr>\n",
              "      <th>4618</th>\n",
              "      <td>1833</td>\n",
              "      <td>1</td>\n",
              "      <td>Steak Burrito</td>\n",
              "      <td>$11.75</td>\n",
              "    </tr>\n",
              "    <tr>\n",
              "      <th>4619</th>\n",
              "      <td>1833</td>\n",
              "      <td>1</td>\n",
              "      <td>Steak Burrito</td>\n",
              "      <td>$11.75</td>\n",
              "    </tr>\n",
              "    <tr>\n",
              "      <th>4620</th>\n",
              "      <td>1834</td>\n",
              "      <td>1</td>\n",
              "      <td>Chicken Salad Bowl</td>\n",
              "      <td>$11.25</td>\n",
              "    </tr>\n",
              "    <tr>\n",
              "      <th>4621</th>\n",
              "      <td>1834</td>\n",
              "      <td>1</td>\n",
              "      <td>Chicken Salad Bowl</td>\n",
              "      <td>$8.75</td>\n",
              "    </tr>\n",
              "    <tr>\n",
              "      <th>4622</th>\n",
              "      <td>1834</td>\n",
              "      <td>1</td>\n",
              "      <td>Chicken Salad Bowl</td>\n",
              "      <td>$8.75</td>\n",
              "    </tr>\n",
              "  </tbody>\n",
              "</table>\n",
              "<p>4622 rows × 4 columns</p>\n",
              "</div>"
            ],
            "text/plain": [
              "      order_id  quantity                              item_name item_price\n",
              "1            1         1           Chips and Fresh Tomato Salsa     $2.39 \n",
              "2            1         1                                   Izze     $3.39 \n",
              "3            1         1                       Nantucket Nectar     $3.39 \n",
              "4            1         1  Chips and Tomatillo-Green Chili Salsa     $2.39 \n",
              "5            2         2                           Chicken Bowl    $16.98 \n",
              "...        ...       ...                                    ...        ...\n",
              "4618      1833         1                          Steak Burrito    $11.75 \n",
              "4619      1833         1                          Steak Burrito    $11.75 \n",
              "4620      1834         1                     Chicken Salad Bowl    $11.25 \n",
              "4621      1834         1                     Chicken Salad Bowl     $8.75 \n",
              "4622      1834         1                     Chicken Salad Bowl     $8.75 \n",
              "\n",
              "[4622 rows x 4 columns]"
            ]
          },
          "metadata": {
            "tags": []
          },
          "execution_count": 15
        }
      ]
    },
    {
      "cell_type": "markdown",
      "metadata": {
        "id": "eqJTB59RSgBI"
      },
      "source": [
        "### Chipotle Task\r\n",
        "- To find number of orders that were **greater than 30$ in total**, as we need to give customers a discount.\r\n",
        "- To sort these orders, highest first. \r\n",
        "# - To save the number of items bought and their total bill in an excel file to view later. "
      ]
    },
    {
      "cell_type": "markdown",
      "metadata": {
        "id": "m303qdklTsC2"
      },
      "source": [
        "#### Converting string to float\r\n",
        "We observe that have multiple quantities of some items, thus we need a total column for each item purchesed. We also observe that the current item_price is a string and we need values to work with."
      ]
    },
    {
      "cell_type": "code",
      "metadata": {
        "colab": {
          "base_uri": "https://localhost:8080/",
          "height": 402
        },
        "id": "xEjhAnXuTzrG",
        "outputId": "19f0af0d-57f3-4d23-93e7-f5a4aac0cc88"
      },
      "source": [
        "# Replacing $ symbol as that is not required\r\n",
        "mydata[\"item_price\"] = mydata[\"item_price\"].str.replace('$', '')\r\n",
        "\r\n",
        "# Converting string data to float data for calculation \r\n",
        "mydata[\"item_price\"] = mydata[\"item_price\"].astype(float)\r\n",
        "\r\n",
        "# Calculating total column for each item purchased\r\n",
        "mydata[\"Total\"] = mydata[\"item_price\"]*mydata[\"quantity\"]\r\n",
        "\r\n",
        "mydata"
      ],
      "execution_count": null,
      "outputs": [
        {
          "output_type": "execute_result",
          "data": {
            "text/html": [
              "<div>\n",
              "<style scoped>\n",
              "    .dataframe tbody tr th:only-of-type {\n",
              "        vertical-align: middle;\n",
              "    }\n",
              "\n",
              "    .dataframe tbody tr th {\n",
              "        vertical-align: top;\n",
              "    }\n",
              "\n",
              "    .dataframe thead th {\n",
              "        text-align: right;\n",
              "    }\n",
              "</style>\n",
              "<table border=\"1\" class=\"dataframe\">\n",
              "  <thead>\n",
              "    <tr style=\"text-align: right;\">\n",
              "      <th></th>\n",
              "      <th>order_id</th>\n",
              "      <th>quantity</th>\n",
              "      <th>item_name</th>\n",
              "      <th>item_price</th>\n",
              "      <th>Total</th>\n",
              "    </tr>\n",
              "  </thead>\n",
              "  <tbody>\n",
              "    <tr>\n",
              "      <th>1</th>\n",
              "      <td>1</td>\n",
              "      <td>1</td>\n",
              "      <td>Chips and Fresh Tomato Salsa</td>\n",
              "      <td>2.39</td>\n",
              "      <td>2.39</td>\n",
              "    </tr>\n",
              "    <tr>\n",
              "      <th>2</th>\n",
              "      <td>1</td>\n",
              "      <td>1</td>\n",
              "      <td>Izze</td>\n",
              "      <td>3.39</td>\n",
              "      <td>3.39</td>\n",
              "    </tr>\n",
              "    <tr>\n",
              "      <th>3</th>\n",
              "      <td>1</td>\n",
              "      <td>1</td>\n",
              "      <td>Nantucket Nectar</td>\n",
              "      <td>3.39</td>\n",
              "      <td>3.39</td>\n",
              "    </tr>\n",
              "    <tr>\n",
              "      <th>4</th>\n",
              "      <td>1</td>\n",
              "      <td>1</td>\n",
              "      <td>Chips and Tomatillo-Green Chili Salsa</td>\n",
              "      <td>2.39</td>\n",
              "      <td>2.39</td>\n",
              "    </tr>\n",
              "    <tr>\n",
              "      <th>5</th>\n",
              "      <td>2</td>\n",
              "      <td>2</td>\n",
              "      <td>Chicken Bowl</td>\n",
              "      <td>16.98</td>\n",
              "      <td>33.96</td>\n",
              "    </tr>\n",
              "    <tr>\n",
              "      <th>...</th>\n",
              "      <td>...</td>\n",
              "      <td>...</td>\n",
              "      <td>...</td>\n",
              "      <td>...</td>\n",
              "      <td>...</td>\n",
              "    </tr>\n",
              "    <tr>\n",
              "      <th>4618</th>\n",
              "      <td>1833</td>\n",
              "      <td>1</td>\n",
              "      <td>Steak Burrito</td>\n",
              "      <td>11.75</td>\n",
              "      <td>11.75</td>\n",
              "    </tr>\n",
              "    <tr>\n",
              "      <th>4619</th>\n",
              "      <td>1833</td>\n",
              "      <td>1</td>\n",
              "      <td>Steak Burrito</td>\n",
              "      <td>11.75</td>\n",
              "      <td>11.75</td>\n",
              "    </tr>\n",
              "    <tr>\n",
              "      <th>4620</th>\n",
              "      <td>1834</td>\n",
              "      <td>1</td>\n",
              "      <td>Chicken Salad Bowl</td>\n",
              "      <td>11.25</td>\n",
              "      <td>11.25</td>\n",
              "    </tr>\n",
              "    <tr>\n",
              "      <th>4621</th>\n",
              "      <td>1834</td>\n",
              "      <td>1</td>\n",
              "      <td>Chicken Salad Bowl</td>\n",
              "      <td>8.75</td>\n",
              "      <td>8.75</td>\n",
              "    </tr>\n",
              "    <tr>\n",
              "      <th>4622</th>\n",
              "      <td>1834</td>\n",
              "      <td>1</td>\n",
              "      <td>Chicken Salad Bowl</td>\n",
              "      <td>8.75</td>\n",
              "      <td>8.75</td>\n",
              "    </tr>\n",
              "  </tbody>\n",
              "</table>\n",
              "<p>4622 rows × 5 columns</p>\n",
              "</div>"
            ],
            "text/plain": [
              "      order_id  quantity  ... item_price  Total\n",
              "1            1         1  ...       2.39   2.39\n",
              "2            1         1  ...       3.39   3.39\n",
              "3            1         1  ...       3.39   3.39\n",
              "4            1         1  ...       2.39   2.39\n",
              "5            2         2  ...      16.98  33.96\n",
              "...        ...       ...  ...        ...    ...\n",
              "4618      1833         1  ...      11.75  11.75\n",
              "4619      1833         1  ...      11.75  11.75\n",
              "4620      1834         1  ...      11.25  11.25\n",
              "4621      1834         1  ...       8.75   8.75\n",
              "4622      1834         1  ...       8.75   8.75\n",
              "\n",
              "[4622 rows x 5 columns]"
            ]
          },
          "metadata": {
            "tags": []
          },
          "execution_count": 16
        }
      ]
    },
    {
      "cell_type": "markdown",
      "metadata": {
        "id": "Qudu7KzGSvkj"
      },
      "source": [
        "#### Groupby order id\r\n",
        "Now lets try to group all the items ordered by the same order id to have a better understanding of our dataset."
      ]
    },
    {
      "cell_type": "code",
      "metadata": {
        "colab": {
          "base_uri": "https://localhost:8080/",
          "height": 431
        },
        "id": "fw5H97P7TqQB",
        "outputId": "2ad99a0f-0d79-4d83-96f3-85182f08dfb3"
      },
      "source": [
        "# groupby for grouping data \r\n",
        "orders = mydata.groupby([\"order_id\",\"item_name\"])\r\n",
        "\r\n",
        "orders.first()"
      ],
      "execution_count": null,
      "outputs": [
        {
          "output_type": "execute_result",
          "data": {
            "text/html": [
              "<div>\n",
              "<style scoped>\n",
              "    .dataframe tbody tr th:only-of-type {\n",
              "        vertical-align: middle;\n",
              "    }\n",
              "\n",
              "    .dataframe tbody tr th {\n",
              "        vertical-align: top;\n",
              "    }\n",
              "\n",
              "    .dataframe thead th {\n",
              "        text-align: right;\n",
              "    }\n",
              "</style>\n",
              "<table border=\"1\" class=\"dataframe\">\n",
              "  <thead>\n",
              "    <tr style=\"text-align: right;\">\n",
              "      <th></th>\n",
              "      <th></th>\n",
              "      <th>quantity</th>\n",
              "      <th>item_price</th>\n",
              "      <th>Total</th>\n",
              "    </tr>\n",
              "    <tr>\n",
              "      <th>order_id</th>\n",
              "      <th>item_name</th>\n",
              "      <th></th>\n",
              "      <th></th>\n",
              "      <th></th>\n",
              "    </tr>\n",
              "  </thead>\n",
              "  <tbody>\n",
              "    <tr>\n",
              "      <th rowspan=\"4\" valign=\"top\">1</th>\n",
              "      <th>Chips and Fresh Tomato Salsa</th>\n",
              "      <td>1</td>\n",
              "      <td>2.39</td>\n",
              "      <td>2.39</td>\n",
              "    </tr>\n",
              "    <tr>\n",
              "      <th>Chips and Tomatillo-Green Chili Salsa</th>\n",
              "      <td>1</td>\n",
              "      <td>2.39</td>\n",
              "      <td>2.39</td>\n",
              "    </tr>\n",
              "    <tr>\n",
              "      <th>Izze</th>\n",
              "      <td>1</td>\n",
              "      <td>3.39</td>\n",
              "      <td>3.39</td>\n",
              "    </tr>\n",
              "    <tr>\n",
              "      <th>Nantucket Nectar</th>\n",
              "      <td>1</td>\n",
              "      <td>3.39</td>\n",
              "      <td>3.39</td>\n",
              "    </tr>\n",
              "    <tr>\n",
              "      <th>2</th>\n",
              "      <th>Chicken Bowl</th>\n",
              "      <td>2</td>\n",
              "      <td>16.98</td>\n",
              "      <td>33.96</td>\n",
              "    </tr>\n",
              "    <tr>\n",
              "      <th>...</th>\n",
              "      <th>...</th>\n",
              "      <td>...</td>\n",
              "      <td>...</td>\n",
              "      <td>...</td>\n",
              "    </tr>\n",
              "    <tr>\n",
              "      <th>1831</th>\n",
              "      <th>Chips</th>\n",
              "      <td>1</td>\n",
              "      <td>2.15</td>\n",
              "      <td>2.15</td>\n",
              "    </tr>\n",
              "    <tr>\n",
              "      <th rowspan=\"2\" valign=\"top\">1832</th>\n",
              "      <th>Chicken Soft Tacos</th>\n",
              "      <td>1</td>\n",
              "      <td>8.75</td>\n",
              "      <td>8.75</td>\n",
              "    </tr>\n",
              "    <tr>\n",
              "      <th>Chips and Guacamole</th>\n",
              "      <td>1</td>\n",
              "      <td>4.45</td>\n",
              "      <td>4.45</td>\n",
              "    </tr>\n",
              "    <tr>\n",
              "      <th>1833</th>\n",
              "      <th>Steak Burrito</th>\n",
              "      <td>1</td>\n",
              "      <td>11.75</td>\n",
              "      <td>11.75</td>\n",
              "    </tr>\n",
              "    <tr>\n",
              "      <th>1834</th>\n",
              "      <th>Chicken Salad Bowl</th>\n",
              "      <td>1</td>\n",
              "      <td>11.25</td>\n",
              "      <td>11.25</td>\n",
              "    </tr>\n",
              "  </tbody>\n",
              "</table>\n",
              "<p>4292 rows × 3 columns</p>\n",
              "</div>"
            ],
            "text/plain": [
              "                                                quantity  item_price  Total\n",
              "order_id item_name                                                         \n",
              "1        Chips and Fresh Tomato Salsa                  1        2.39   2.39\n",
              "         Chips and Tomatillo-Green Chili Salsa         1        2.39   2.39\n",
              "         Izze                                          1        3.39   3.39\n",
              "         Nantucket Nectar                              1        3.39   3.39\n",
              "2        Chicken Bowl                                  2       16.98  33.96\n",
              "...                                                  ...         ...    ...\n",
              "1831     Chips                                         1        2.15   2.15\n",
              "1832     Chicken Soft Tacos                            1        8.75   8.75\n",
              "         Chips and Guacamole                           1        4.45   4.45\n",
              "1833     Steak Burrito                                 1       11.75  11.75\n",
              "1834     Chicken Salad Bowl                            1       11.25  11.25\n",
              "\n",
              "[4292 rows x 3 columns]"
            ]
          },
          "metadata": {
            "tags": []
          },
          "execution_count": 17
        }
      ]
    },
    {
      "cell_type": "markdown",
      "metadata": {
        "id": "wK-eb_mGc3Yd"
      },
      "source": [
        "#### Summing grouped data\r\n",
        "The above dataframe gives us a better visualization, but our goal is to sum the total bill of each order."
      ]
    },
    {
      "cell_type": "code",
      "metadata": {
        "colab": {
          "base_uri": "https://localhost:8080/",
          "height": 431
        },
        "id": "WojBnl6rc3CE",
        "outputId": "fb85f32c-655a-482a-c0f3-7a0d2c75a3dc"
      },
      "source": [
        "# grouping the orders by order id and summing the qty of items and their total cost.\r\n",
        "orders = mydata.groupby([\"order_id\"])[[\"quantity\",\"Total\"]].sum() #one can also use [].mean() in order to get average.\r\n",
        "\r\n",
        "orders"
      ],
      "execution_count": null,
      "outputs": [
        {
          "output_type": "execute_result",
          "data": {
            "text/html": [
              "<div>\n",
              "<style scoped>\n",
              "    .dataframe tbody tr th:only-of-type {\n",
              "        vertical-align: middle;\n",
              "    }\n",
              "\n",
              "    .dataframe tbody tr th {\n",
              "        vertical-align: top;\n",
              "    }\n",
              "\n",
              "    .dataframe thead th {\n",
              "        text-align: right;\n",
              "    }\n",
              "</style>\n",
              "<table border=\"1\" class=\"dataframe\">\n",
              "  <thead>\n",
              "    <tr style=\"text-align: right;\">\n",
              "      <th></th>\n",
              "      <th>quantity</th>\n",
              "      <th>Total</th>\n",
              "    </tr>\n",
              "    <tr>\n",
              "      <th>order_id</th>\n",
              "      <th></th>\n",
              "      <th></th>\n",
              "    </tr>\n",
              "  </thead>\n",
              "  <tbody>\n",
              "    <tr>\n",
              "      <th>1</th>\n",
              "      <td>4</td>\n",
              "      <td>11.56</td>\n",
              "    </tr>\n",
              "    <tr>\n",
              "      <th>2</th>\n",
              "      <td>2</td>\n",
              "      <td>33.96</td>\n",
              "    </tr>\n",
              "    <tr>\n",
              "      <th>3</th>\n",
              "      <td>2</td>\n",
              "      <td>12.67</td>\n",
              "    </tr>\n",
              "    <tr>\n",
              "      <th>4</th>\n",
              "      <td>2</td>\n",
              "      <td>21.00</td>\n",
              "    </tr>\n",
              "    <tr>\n",
              "      <th>5</th>\n",
              "      <td>2</td>\n",
              "      <td>13.70</td>\n",
              "    </tr>\n",
              "    <tr>\n",
              "      <th>...</th>\n",
              "      <td>...</td>\n",
              "      <td>...</td>\n",
              "    </tr>\n",
              "    <tr>\n",
              "      <th>1830</th>\n",
              "      <td>2</td>\n",
              "      <td>23.00</td>\n",
              "    </tr>\n",
              "    <tr>\n",
              "      <th>1831</th>\n",
              "      <td>3</td>\n",
              "      <td>12.90</td>\n",
              "    </tr>\n",
              "    <tr>\n",
              "      <th>1832</th>\n",
              "      <td>2</td>\n",
              "      <td>13.20</td>\n",
              "    </tr>\n",
              "    <tr>\n",
              "      <th>1833</th>\n",
              "      <td>2</td>\n",
              "      <td>23.50</td>\n",
              "    </tr>\n",
              "    <tr>\n",
              "      <th>1834</th>\n",
              "      <td>3</td>\n",
              "      <td>28.75</td>\n",
              "    </tr>\n",
              "  </tbody>\n",
              "</table>\n",
              "<p>1834 rows × 2 columns</p>\n",
              "</div>"
            ],
            "text/plain": [
              "          quantity  Total\n",
              "order_id                 \n",
              "1                4  11.56\n",
              "2                2  33.96\n",
              "3                2  12.67\n",
              "4                2  21.00\n",
              "5                2  13.70\n",
              "...            ...    ...\n",
              "1830             2  23.00\n",
              "1831             3  12.90\n",
              "1832             2  13.20\n",
              "1833             2  23.50\n",
              "1834             3  28.75\n",
              "\n",
              "[1834 rows x 2 columns]"
            ]
          },
          "metadata": {
            "tags": []
          },
          "execution_count": 18
        }
      ]
    },
    {
      "cell_type": "markdown",
      "metadata": {
        "id": "u7Lfn65GgN3m"
      },
      "source": [
        "#### Sorting the total bills\r\n",
        "Lets sort the orders such that higher bill items appear first"
      ]
    },
    {
      "cell_type": "code",
      "metadata": {
        "colab": {
          "base_uri": "https://localhost:8080/",
          "height": 431
        },
        "id": "m3FVNvNLgNLP",
        "outputId": "85585db0-59c5-4d24-bcef-b4d6eb5898e3"
      },
      "source": [
        "# Sorting them in descending order\r\n",
        "orders.sort_values(\"Total\",ascending=False, inplace=True)\r\n",
        "\r\n",
        "orders"
      ],
      "execution_count": null,
      "outputs": [
        {
          "output_type": "execute_result",
          "data": {
            "text/html": [
              "<div>\n",
              "<style scoped>\n",
              "    .dataframe tbody tr th:only-of-type {\n",
              "        vertical-align: middle;\n",
              "    }\n",
              "\n",
              "    .dataframe tbody tr th {\n",
              "        vertical-align: top;\n",
              "    }\n",
              "\n",
              "    .dataframe thead th {\n",
              "        text-align: right;\n",
              "    }\n",
              "</style>\n",
              "<table border=\"1\" class=\"dataframe\">\n",
              "  <thead>\n",
              "    <tr style=\"text-align: right;\">\n",
              "      <th></th>\n",
              "      <th>quantity</th>\n",
              "      <th>Total</th>\n",
              "    </tr>\n",
              "    <tr>\n",
              "      <th>order_id</th>\n",
              "      <th></th>\n",
              "      <th></th>\n",
              "    </tr>\n",
              "  </thead>\n",
              "  <tbody>\n",
              "    <tr>\n",
              "      <th>1443</th>\n",
              "      <td>35</td>\n",
              "      <td>1074.24</td>\n",
              "    </tr>\n",
              "    <tr>\n",
              "      <th>511</th>\n",
              "      <td>17</td>\n",
              "      <td>315.29</td>\n",
              "    </tr>\n",
              "    <tr>\n",
              "      <th>1559</th>\n",
              "      <td>16</td>\n",
              "      <td>246.00</td>\n",
              "    </tr>\n",
              "    <tr>\n",
              "      <th>1660</th>\n",
              "      <td>19</td>\n",
              "      <td>222.75</td>\n",
              "    </tr>\n",
              "    <tr>\n",
              "      <th>926</th>\n",
              "      <td>23</td>\n",
              "      <td>205.25</td>\n",
              "    </tr>\n",
              "    <tr>\n",
              "      <th>...</th>\n",
              "      <td>...</td>\n",
              "      <td>...</td>\n",
              "    </tr>\n",
              "    <tr>\n",
              "      <th>1122</th>\n",
              "      <td>2</td>\n",
              "      <td>10.08</td>\n",
              "    </tr>\n",
              "    <tr>\n",
              "      <th>1093</th>\n",
              "      <td>2</td>\n",
              "      <td>10.08</td>\n",
              "    </tr>\n",
              "    <tr>\n",
              "      <th>614</th>\n",
              "      <td>2</td>\n",
              "      <td>10.08</td>\n",
              "    </tr>\n",
              "    <tr>\n",
              "      <th>1014</th>\n",
              "      <td>2</td>\n",
              "      <td>10.08</td>\n",
              "    </tr>\n",
              "    <tr>\n",
              "      <th>393</th>\n",
              "      <td>2</td>\n",
              "      <td>10.08</td>\n",
              "    </tr>\n",
              "  </tbody>\n",
              "</table>\n",
              "<p>1834 rows × 2 columns</p>\n",
              "</div>"
            ],
            "text/plain": [
              "          quantity    Total\n",
              "order_id                   \n",
              "1443            35  1074.24\n",
              "511             17   315.29\n",
              "1559            16   246.00\n",
              "1660            19   222.75\n",
              "926             23   205.25\n",
              "...            ...      ...\n",
              "1122             2    10.08\n",
              "1093             2    10.08\n",
              "614              2    10.08\n",
              "1014             2    10.08\n",
              "393              2    10.08\n",
              "\n",
              "[1834 rows x 2 columns]"
            ]
          },
          "metadata": {
            "tags": []
          },
          "execution_count": 19
        }
      ]
    },
    {
      "cell_type": "markdown",
      "metadata": {
        "id": "MniqPGrkeK3O"
      },
      "source": [
        "#### Finding orders greater than 30 dollars\r\n",
        "\r\n",
        "Now that we have our table that contains the total bill for all the orders, we have to select those orders that have a bill greater than $30."
      ]
    },
    {
      "cell_type": "code",
      "metadata": {
        "colab": {
          "base_uri": "https://localhost:8080/",
          "height": 449
        },
        "id": "5pEk6TQXA4CG",
        "outputId": "399f27b0-fa68-4438-c8d0-91d364c1c5c0"
      },
      "source": [
        "# Thresholding results\r\n",
        "results = orders[orders[\"Total\"]>=30]\r\n",
        "\r\n",
        "print(\"Total number of orders with more than a total bill of $30 is\",len(results))\r\n",
        "\r\n",
        "results"
      ],
      "execution_count": null,
      "outputs": [
        {
          "output_type": "stream",
          "text": [
            "Total number of orders with more than a total bill of $30 is 253\n"
          ],
          "name": "stdout"
        },
        {
          "output_type": "execute_result",
          "data": {
            "text/html": [
              "<div>\n",
              "<style scoped>\n",
              "    .dataframe tbody tr th:only-of-type {\n",
              "        vertical-align: middle;\n",
              "    }\n",
              "\n",
              "    .dataframe tbody tr th {\n",
              "        vertical-align: top;\n",
              "    }\n",
              "\n",
              "    .dataframe thead th {\n",
              "        text-align: right;\n",
              "    }\n",
              "</style>\n",
              "<table border=\"1\" class=\"dataframe\">\n",
              "  <thead>\n",
              "    <tr style=\"text-align: right;\">\n",
              "      <th></th>\n",
              "      <th>quantity</th>\n",
              "      <th>Total</th>\n",
              "    </tr>\n",
              "    <tr>\n",
              "      <th>order_id</th>\n",
              "      <th></th>\n",
              "      <th></th>\n",
              "    </tr>\n",
              "  </thead>\n",
              "  <tbody>\n",
              "    <tr>\n",
              "      <th>1443</th>\n",
              "      <td>35</td>\n",
              "      <td>1074.24</td>\n",
              "    </tr>\n",
              "    <tr>\n",
              "      <th>511</th>\n",
              "      <td>17</td>\n",
              "      <td>315.29</td>\n",
              "    </tr>\n",
              "    <tr>\n",
              "      <th>1559</th>\n",
              "      <td>16</td>\n",
              "      <td>246.00</td>\n",
              "    </tr>\n",
              "    <tr>\n",
              "      <th>1660</th>\n",
              "      <td>19</td>\n",
              "      <td>222.75</td>\n",
              "    </tr>\n",
              "    <tr>\n",
              "      <th>926</th>\n",
              "      <td>23</td>\n",
              "      <td>205.25</td>\n",
              "    </tr>\n",
              "    <tr>\n",
              "      <th>...</th>\n",
              "      <td>...</td>\n",
              "      <td>...</td>\n",
              "    </tr>\n",
              "    <tr>\n",
              "      <th>149</th>\n",
              "      <td>6</td>\n",
              "      <td>30.40</td>\n",
              "    </tr>\n",
              "    <tr>\n",
              "      <th>346</th>\n",
              "      <td>4</td>\n",
              "      <td>30.20</td>\n",
              "    </tr>\n",
              "    <tr>\n",
              "      <th>1367</th>\n",
              "      <td>4</td>\n",
              "      <td>30.20</td>\n",
              "    </tr>\n",
              "    <tr>\n",
              "      <th>888</th>\n",
              "      <td>5</td>\n",
              "      <td>30.15</td>\n",
              "    </tr>\n",
              "    <tr>\n",
              "      <th>1309</th>\n",
              "      <td>4</td>\n",
              "      <td>30.00</td>\n",
              "    </tr>\n",
              "  </tbody>\n",
              "</table>\n",
              "<p>253 rows × 2 columns</p>\n",
              "</div>"
            ],
            "text/plain": [
              "          quantity    Total\n",
              "order_id                   \n",
              "1443            35  1074.24\n",
              "511             17   315.29\n",
              "1559            16   246.00\n",
              "1660            19   222.75\n",
              "926             23   205.25\n",
              "...            ...      ...\n",
              "149              6    30.40\n",
              "346              4    30.20\n",
              "1367             4    30.20\n",
              "888              5    30.15\n",
              "1309             4    30.00\n",
              "\n",
              "[253 rows x 2 columns]"
            ]
          },
          "metadata": {
            "tags": []
          },
          "execution_count": 20
        }
      ]
    },
    {
      "cell_type": "markdown",
      "metadata": {
        "id": "FzPHlELSfTCh"
      },
      "source": [
        "#### Writing into excel files\r\n",
        "Now that we have the orders we were looking for, lets save them in an excel file so that we can show it to our friends."
      ]
    },
    {
      "cell_type": "code",
      "metadata": {
        "id": "-bzxHpxmejmC"
      },
      "source": [
        "results.to_excel(\"ordersgreaterthan30.xlsx\")"
      ],
      "execution_count": null,
      "outputs": []
    },
    {
      "cell_type": "markdown",
      "metadata": {
        "id": "fs7mqM6gIfvT"
      },
      "source": [
        "# Homework Task\r\n"
      ]
    },
    {
      "cell_type": "code",
      "metadata": {
        "id": "2Do54pUrIjea"
      },
      "source": [
        "sales = [100,130,119,92,35]\r\n",
        "customer_account = ['B100','J101','X102','P103','R104']\r\n",
        "city = ['BOS','LA','NYC','SF','CHI']"
      ],
      "execution_count": null,
      "outputs": []
    },
    {
      "cell_type": "markdown",
      "metadata": {
        "id": "riLApf7eIqSC"
      },
      "source": [
        "#### Create a DataFrame with the above data"
      ]
    },
    {
      "cell_type": "code",
      "metadata": {
        "id": "C_SsUjoQIoPl"
      },
      "source": [
        ""
      ],
      "execution_count": null,
      "outputs": []
    },
    {
      "cell_type": "markdown",
      "metadata": {
        "id": "yKsq2Tv-I01S"
      },
      "source": [
        "#### Print the name of the first column"
      ]
    },
    {
      "cell_type": "code",
      "metadata": {
        "id": "1G0NwBrJIxq0"
      },
      "source": [
        ""
      ],
      "execution_count": null,
      "outputs": []
    },
    {
      "cell_type": "markdown",
      "metadata": {
        "id": "51nzpJebJBOh"
      },
      "source": [
        "#### Sort the DataFrame by city in descending order (check the [documentation](https://pandas.pydata.org/pandas-docs/stable/reference/api/pandas.DataFrame.sort_values.html) for sort)"
      ]
    },
    {
      "cell_type": "code",
      "metadata": {
        "id": "xZnm90CcJA2D"
      },
      "source": [
        ""
      ],
      "execution_count": null,
      "outputs": []
    },
    {
      "cell_type": "markdown",
      "metadata": {
        "id": "WKZyhostJGkT"
      },
      "source": [
        "#### Which customer is in the last row of the DataFrame?"
      ]
    },
    {
      "cell_type": "code",
      "metadata": {
        "id": "ua36n-QsJG9C"
      },
      "source": [
        ""
      ],
      "execution_count": null,
      "outputs": []
    },
    {
      "cell_type": "markdown",
      "metadata": {
        "id": "3cn5w4_-JI6z"
      },
      "source": [
        "#### Reorder the columns with customer account in the first column"
      ]
    },
    {
      "cell_type": "code",
      "metadata": {
        "id": "b2LkUyu8JJWd"
      },
      "source": [
        ""
      ],
      "execution_count": null,
      "outputs": []
    },
    {
      "cell_type": "markdown",
      "metadata": {
        "id": "wXx1qAKkJPxx"
      },
      "source": [
        "### Click to open Solutions\r\n",
        "\r\n"
      ]
    },
    {
      "cell_type": "code",
      "metadata": {
        "id": "z7H9XHk9JS75",
        "colab": {
          "base_uri": "https://localhost:8080/"
        },
        "outputId": "36e92c06-1b48-423b-b961-070abb10b638"
      },
      "source": [
        "# Making the dataframe\r\n",
        "df = pd.DataFrame()\r\n",
        "df[\"sales\"] = sales\r\n",
        "df[\"customer_account\"] = customer_account\r\n",
        "df[\"city\"] = city \r\n",
        "print(\"1. This is the dataframe:\\n\",df)\r\n",
        "\r\n",
        "# Printing the first column\r\n",
        "print(\"\\n2. This is the first column: \", df.columns[0])\r\n",
        "\r\n",
        "# Sorting in descending order by cities.\r\n",
        "df.sort_values(\"city\",ascending=False,inplace=True)\r\n",
        "print(\"\\n3. The sorted dataframe by series is- \\n\",df)\r\n",
        "\r\n",
        "# Last Row of the dataframe.\r\n",
        "print(\"\\n4. The last row is -\",df.tail(1))\r\n",
        "\r\n",
        "# Reordering the columns \r\n",
        "column_names = [\"customer_account\",\"sales\",\"city\"]\r\n",
        "df = df.reindex(columns=column_names)\r\n",
        "print(\"\\n5. The reordered dataframe is- \\n\",df)"
      ],
      "execution_count": null,
      "outputs": [
        {
          "output_type": "stream",
          "text": [
            "1. This is the dataframe:\n",
            "    sales customer_account city\n",
            "0    100             B100  BOS\n",
            "1    130             J101   LA\n",
            "2    119             X102  NYC\n",
            "3     92             P103   SF\n",
            "4     35             R104  CHI\n",
            "\n",
            "2. This is the first column:  sales\n",
            "\n",
            "3. The sorted dataframe by series is- \n",
            "    sales customer_account city\n",
            "3     92             P103   SF\n",
            "2    119             X102  NYC\n",
            "1    130             J101   LA\n",
            "4     35             R104  CHI\n",
            "0    100             B100  BOS\n",
            "\n",
            "4. The last row is -    sales customer_account city\n",
            "0    100             B100  BOS\n",
            "\n",
            "5. The reordered dataframe is- \n",
            "   customer_account  sales city\n",
            "3             P103     92   SF\n",
            "2             X102    119  NYC\n",
            "1             J101    130   LA\n",
            "4             R104     35  CHI\n",
            "0             B100    100  BOS\n"
          ],
          "name": "stdout"
        }
      ]
    }
  ]
}