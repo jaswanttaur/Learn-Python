{
  "nbformat": 4,
  "nbformat_minor": 0,
  "metadata": {
    "colab": {
      "name": "TEQIP III - Python Data Science ecosystem Lab 2 [Numpy]",
      "provenance": [],
      "collapsed_sections": [
        "vV2Afl2XdinY",
        "1NtD_zQTewXv",
        "b6i3L8XVfJMm",
        "CbTu1RHuhwyO",
        "DIHEK1q3jEl5",
        "uE1nzj-Dl4N8",
        "1VLKIwDkfKQj",
        "iPYzdesLqRUw",
        "XPH9QQ-6rhVL",
        "gFDVuAFqt15m",
        "ZhxsVZrTYapa",
        "HdV5uqjZ0ZEm",
        "SwiYqcNH4t80",
        "2Rf8Z5FB0A0a"
      ],
      "include_colab_link": true
    },
    "kernelspec": {
      "name": "python3",
      "display_name": "Python 3"
    }
  },
  "cells": [
    {
      "cell_type": "markdown",
      "metadata": {
        "id": "view-in-github",
        "colab_type": "text"
      },
      "source": [
        "<a href=\"https://colab.research.google.com/github/jaswanttaur/Learn-Python/blob/main/TEQIP_III_Python_Data_Science_ecosystem_Lab_2_%5BNumpy%5D.ipynb\" target=\"_parent\"><img src=\"https://colab.research.google.com/assets/colab-badge.svg\" alt=\"Open In Colab\"/></a>"
      ]
    },
    {
      "cell_type": "markdown",
      "metadata": {
        "id": "OgpqpV5GZG8D"
      },
      "source": [
        "# **Importing NumPy**\r\n",
        "We'll start with the standard NumPy import, under the alias *'np'*."
      ]
    },
    {
      "cell_type": "code",
      "metadata": {
        "id": "e6agpbWiY352"
      },
      "source": [
        "import numpy as np"
      ],
      "execution_count": 3,
      "outputs": []
    },
    {
      "cell_type": "markdown",
      "metadata": {
        "id": "wZTtt70hbG8u"
      },
      "source": [
        "# **Creating Arrays from Python Lists**\r\n",
        "Use np.array to create arrays from Python lists."
      ]
    },
    {
      "cell_type": "code",
      "metadata": {
        "id": "UR8OKzFhBO6S"
      },
      "source": [
        ""
      ],
      "execution_count": null,
      "outputs": []
    },
    {
      "cell_type": "code",
      "metadata": {
        "id": "GTaHw_WGa7ei"
      },
      "source": [
        "# integer array:\r\n",
        "a = np.array([[1, 4, 2, 5, 3], [2, 4, 5, 6, 6]])"
      ],
      "execution_count": 5,
      "outputs": []
    },
    {
      "cell_type": "code",
      "metadata": {
        "colab": {
          "base_uri": "https://localhost:8080/"
        },
        "id": "Z_bko3inB073",
        "outputId": "100d5f29-3a78-46ec-99fc-0875135c47d3"
      },
      "source": [
        "type(a)"
      ],
      "execution_count": 7,
      "outputs": [
        {
          "output_type": "execute_result",
          "data": {
            "text/plain": [
              "numpy.ndarray"
            ]
          },
          "metadata": {
            "tags": []
          },
          "execution_count": 7
        }
      ]
    },
    {
      "cell_type": "code",
      "metadata": {
        "colab": {
          "base_uri": "https://localhost:8080/"
        },
        "id": "yKISA_PlCpK4",
        "outputId": "4857ec42-98d4-40a6-e823-59f9a4e28242"
      },
      "source": [
        "a"
      ],
      "execution_count": 42,
      "outputs": [
        {
          "output_type": "execute_result",
          "data": {
            "text/plain": [
              "array([[1, 4, 2, 5, 3],\n",
              "       [2, 4, 5, 6, 6]])"
            ]
          },
          "metadata": {
            "tags": []
          },
          "execution_count": 42
        }
      ]
    },
    {
      "cell_type": "code",
      "metadata": {
        "colab": {
          "base_uri": "https://localhost:8080/"
        },
        "id": "d2rgSJf6CbWv",
        "outputId": "ca695ec8-0997-4a54-8440-07ca95e54ecf"
      },
      "source": [
        "a.shape"
      ],
      "execution_count": 9,
      "outputs": [
        {
          "output_type": "execute_result",
          "data": {
            "text/plain": [
              "(2, 5)"
            ]
          },
          "metadata": {
            "tags": []
          },
          "execution_count": 9
        }
      ]
    },
    {
      "cell_type": "code",
      "metadata": {
        "colab": {
          "base_uri": "https://localhost:8080/"
        },
        "id": "lplbaS-CC_EI",
        "outputId": "ac02be2a-1323-4d8a-dfed-1c475c4f9fb9"
      },
      "source": [
        "a.dtype"
      ],
      "execution_count": 37,
      "outputs": [
        {
          "output_type": "execute_result",
          "data": {
            "text/plain": [
              "dtype('int64')"
            ]
          },
          "metadata": {
            "tags": []
          },
          "execution_count": 37
        }
      ]
    },
    {
      "cell_type": "markdown",
      "metadata": {
        "id": "OCwQmxsObs0m"
      },
      "source": [
        "Unlike Python lists, NumPy is constrained to arrays that all contain the same type. If types do not match, NumPy will upcast if possible."
      ]
    },
    {
      "cell_type": "code",
      "metadata": {
        "id": "LogYzwKrbhmX"
      },
      "source": [
        "#Here, integers are up-cast to floating point:\r\n",
        "b = np.array([3.14, 4, 2, 3])"
      ],
      "execution_count": 38,
      "outputs": []
    },
    {
      "cell_type": "code",
      "metadata": {
        "id": "WAe8aRm5MSPH"
      },
      "source": [
        "arr = np.zeros((5, 6))"
      ],
      "execution_count": 40,
      "outputs": []
    },
    {
      "cell_type": "code",
      "metadata": {
        "colab": {
          "base_uri": "https://localhost:8080/"
        },
        "id": "jclEsuZbDH6d",
        "outputId": "bd544fa1-f640-4fff-bffa-0aaacef560e9"
      },
      "source": [
        "b.dtype"
      ],
      "execution_count": 12,
      "outputs": [
        {
          "output_type": "execute_result",
          "data": {
            "text/plain": [
              "dtype('float64')"
            ]
          },
          "metadata": {
            "tags": []
          },
          "execution_count": 12
        }
      ]
    },
    {
      "cell_type": "code",
      "metadata": {
        "id": "trAhonXKb6Pq"
      },
      "source": [
        "#Use the 'dtype' keyword to explicitly set data type of the resulting array:\r\n",
        "c = np.array([1, 3.14, 3, 4])"
      ],
      "execution_count": 41,
      "outputs": []
    },
    {
      "cell_type": "code",
      "metadata": {
        "colab": {
          "base_uri": "https://localhost:8080/"
        },
        "id": "Ak8ghl3fDRI7",
        "outputId": "892b9ef5-3554-487c-d44e-cc095ec4f07f"
      },
      "source": [
        "c, c.dtype"
      ],
      "execution_count": 15,
      "outputs": [
        {
          "output_type": "execute_result",
          "data": {
            "text/plain": [
              "(array([1.  , 3.14, 3.  , 4.  ]), dtype('float64'))"
            ]
          },
          "metadata": {
            "tags": []
          },
          "execution_count": 15
        }
      ]
    },
    {
      "cell_type": "code",
      "metadata": {
        "colab": {
          "base_uri": "https://localhost:8080/"
        },
        "id": "ZDmZdH90cT4e",
        "outputId": "efc6684f-0a4d-4c8b-839f-4c786a81bc13"
      },
      "source": [
        "#Initializing a multidimensional array using a list of lists:\r\n",
        "np.array([range(i, i + 3) for i in [2, 4, 6]])"
      ],
      "execution_count": 26,
      "outputs": [
        {
          "output_type": "execute_result",
          "data": {
            "text/plain": [
              "array([[2, 3, 4],\n",
              "       [4, 5, 6],\n",
              "       [6, 7, 8]])"
            ]
          },
          "metadata": {
            "tags": []
          },
          "execution_count": 26
        }
      ]
    },
    {
      "cell_type": "code",
      "metadata": {
        "colab": {
          "base_uri": "https://localhost:8080/"
        },
        "id": "ecBvwdJAFiSW",
        "outputId": "30d0dfa8-02ed-4439-ee0a-f2b5c0c05a0b"
      },
      "source": [
        "np.array([[2, 3, 4], [4, 5, 5],[6, 7, 7],[8, 4, 8],[5,6,8]]) "
      ],
      "execution_count": 31,
      "outputs": [
        {
          "output_type": "execute_result",
          "data": {
            "text/plain": [
              "array([[2, 3, 4],\n",
              "       [4, 5, 5],\n",
              "       [6, 7, 7],\n",
              "       [8, 4, 8],\n",
              "       [5, 6, 8]])"
            ]
          },
          "metadata": {
            "tags": []
          },
          "execution_count": 31
        }
      ]
    },
    {
      "cell_type": "markdown",
      "metadata": {
        "id": "hoRhnf-Qcpw2"
      },
      "source": [
        "# **Creating Arrays from Scratch**"
      ]
    },
    {
      "cell_type": "code",
      "metadata": {
        "colab": {
          "base_uri": "https://localhost:8080/"
        },
        "id": "MDJHETvNcfTe",
        "outputId": "d44a3fb8-e6a4-47c3-85a3-d8f0c782d0a1"
      },
      "source": [
        "# Create a length-5 integer array filled with zeros\r\n",
        "np.zeros(5, dtype=int)"
      ],
      "execution_count": 17,
      "outputs": [
        {
          "output_type": "execute_result",
          "data": {
            "text/plain": [
              "array([0, 0, 0, 0, 0])"
            ]
          },
          "metadata": {
            "tags": []
          },
          "execution_count": 17
        }
      ]
    },
    {
      "cell_type": "code",
      "metadata": {
        "colab": {
          "base_uri": "https://localhost:8080/"
        },
        "id": "EmxpolthczzT",
        "outputId": "5f2bf651-34fe-4b42-82d1-5bbc80f11211"
      },
      "source": [
        "# Create a 3x5 floating-point array filled with ones\r\n",
        "np.ones((3, 5), dtype=float)"
      ],
      "execution_count": 18,
      "outputs": [
        {
          "output_type": "execute_result",
          "data": {
            "text/plain": [
              "array([[1., 1., 1., 1., 1.],\n",
              "       [1., 1., 1., 1., 1.],\n",
              "       [1., 1., 1., 1., 1.]])"
            ]
          },
          "metadata": {
            "tags": []
          },
          "execution_count": 18
        }
      ]
    },
    {
      "cell_type": "code",
      "metadata": {
        "colab": {
          "base_uri": "https://localhost:8080/"
        },
        "id": "0l-mCGg8c3UQ",
        "outputId": "789ebfaa-9b34-418b-f71d-0816bec32364"
      },
      "source": [
        "# Create a 3x5 array filled with 3.14\r\n",
        "np.full((3, 5), 3.14)"
      ],
      "execution_count": 19,
      "outputs": [
        {
          "output_type": "execute_result",
          "data": {
            "text/plain": [
              "array([[3.14, 3.14, 3.14, 3.14, 3.14],\n",
              "       [3.14, 3.14, 3.14, 3.14, 3.14],\n",
              "       [3.14, 3.14, 3.14, 3.14, 3.14]])"
            ]
          },
          "metadata": {
            "tags": []
          },
          "execution_count": 19
        }
      ]
    },
    {
      "cell_type": "code",
      "metadata": {
        "colab": {
          "base_uri": "https://localhost:8080/"
        },
        "id": "UFvPFRvNc5jW",
        "outputId": "19672522-cc85-4006-8cd5-81b9ca5c404f"
      },
      "source": [
        "# Create an array filled with a linear sequence\r\n",
        "# Starting at 0, ending at 20, stepping by 2\r\n",
        "# (this is similar to the built-in range() function)\r\n",
        "np.arange(0, 40, 4)"
      ],
      "execution_count": 36,
      "outputs": [
        {
          "output_type": "execute_result",
          "data": {
            "text/plain": [
              "array([ 0,  4,  8, 12, 16, 20, 24, 28, 32, 36])"
            ]
          },
          "metadata": {
            "tags": []
          },
          "execution_count": 36
        }
      ]
    },
    {
      "cell_type": "code",
      "metadata": {
        "colab": {
          "base_uri": "https://localhost:8080/"
        },
        "id": "Xkp2Z8C0c81N",
        "outputId": "ed7f0052-fe78-40c2-f389-d72b9a8aed2b"
      },
      "source": [
        "# Create an array of five values evenly spaced between 0 and 1\r\n",
        "np.linspace(0, 1, 5)"
      ],
      "execution_count": 35,
      "outputs": [
        {
          "output_type": "execute_result",
          "data": {
            "text/plain": [
              "array([0.  , 0.25, 0.5 , 0.75, 1.  ])"
            ]
          },
          "metadata": {
            "tags": []
          },
          "execution_count": 35
        }
      ]
    },
    {
      "cell_type": "code",
      "metadata": {
        "colab": {
          "base_uri": "https://localhost:8080/"
        },
        "id": "A9ppTbh-dAJv",
        "outputId": "9ad84400-6430-4f4b-869f-a37b8bc69f50"
      },
      "source": [
        "# Create a 3x3 array of uniformly distributed\r\n",
        "# random values between 0 and 1\r\n",
        "np.random.random((9, 3))"
      ],
      "execution_count": 73,
      "outputs": [
        {
          "output_type": "execute_result",
          "data": {
            "text/plain": [
              "array([[0.66252687, 0.01357164, 0.6228461 ],\n",
              "       [0.67365963, 0.971945  , 0.87819347],\n",
              "       [0.50962438, 0.05571469, 0.45115921],\n",
              "       [0.01998767, 0.44171092, 0.97958673],\n",
              "       [0.35944446, 0.48089353, 0.68866118],\n",
              "       [0.88047589, 0.91823547, 0.21682214],\n",
              "       [0.56518887, 0.86510256, 0.50896896],\n",
              "       [0.91672295, 0.92115761, 0.08311249],\n",
              "       [0.27771856, 0.0093567 , 0.84234208]])"
            ]
          },
          "metadata": {
            "tags": []
          },
          "execution_count": 73
        }
      ]
    },
    {
      "cell_type": "code",
      "metadata": {
        "id": "JndqSEwIQ2sI"
      },
      "source": [
        "np.random.choice?? #used for help\n"
      ],
      "execution_count": 75,
      "outputs": []
    },
    {
      "cell_type": "code",
      "metadata": {
        "colab": {
          "base_uri": "https://localhost:8080/"
        },
        "id": "vxFmi_0PdEuy",
        "outputId": "c28e339a-0206-41cb-9dbe-a2cf022193d9"
      },
      "source": [
        "# Create a 3x3 identity matrix\r\n",
        "np.eye(4)"
      ],
      "execution_count": 46,
      "outputs": [
        {
          "output_type": "execute_result",
          "data": {
            "text/plain": [
              "array([[1., 0., 0., 0.],\n",
              "       [0., 1., 0., 0.],\n",
              "       [0., 0., 1., 0.],\n",
              "       [0., 0., 0., 1.]])"
            ]
          },
          "metadata": {
            "tags": []
          },
          "execution_count": 46
        }
      ]
    },
    {
      "cell_type": "code",
      "metadata": {
        "colab": {
          "base_uri": "https://localhost:8080/"
        },
        "id": "MwiJXRSgONTW",
        "outputId": "de269740-7b54-4b31-e721-74ca0fa95232"
      },
      "source": [
        "arr = np.array([[2.888,3.5555], [3.444,4.555]])\n",
        "arr"
      ],
      "execution_count": 52,
      "outputs": [
        {
          "output_type": "execute_result",
          "data": {
            "text/plain": [
              "array([[2.888 , 3.5555],\n",
              "       [3.444 , 4.555 ]])"
            ]
          },
          "metadata": {
            "tags": []
          },
          "execution_count": 52
        }
      ]
    },
    {
      "cell_type": "code",
      "metadata": {
        "colab": {
          "base_uri": "https://localhost:8080/"
        },
        "id": "tSAb2FABOs1c",
        "outputId": "e136ec90-4cdd-4b00-a531-60ed28bde6c1"
      },
      "source": [
        "np.ones((3,5)) #only Once"
      ],
      "execution_count": 57,
      "outputs": [
        {
          "output_type": "execute_result",
          "data": {
            "text/plain": [
              "array([[1., 1., 1., 1., 1.],\n",
              "       [1., 1., 1., 1., 1.],\n",
              "       [1., 1., 1., 1., 1.]])"
            ]
          },
          "metadata": {
            "tags": []
          },
          "execution_count": 57
        }
      ]
    },
    {
      "cell_type": "code",
      "metadata": {
        "colab": {
          "base_uri": "https://localhost:8080/"
        },
        "id": "ROxua_AVPGwN",
        "outputId": "a449a55c-be46-4af8-8aee-f82b0c3d3111"
      },
      "source": [
        "np.full((3,5), 6) #Array with Single Value"
      ],
      "execution_count": 58,
      "outputs": [
        {
          "output_type": "execute_result",
          "data": {
            "text/plain": [
              "array([[6, 6, 6, 6, 6],\n",
              "       [6, 6, 6, 6, 6],\n",
              "       [6, 6, 6, 6, 6]])"
            ]
          },
          "metadata": {
            "tags": []
          },
          "execution_count": 58
        }
      ]
    },
    {
      "cell_type": "code",
      "metadata": {
        "colab": {
          "base_uri": "https://localhost:8080/"
        },
        "id": "QxDIMhQMPTd-",
        "outputId": "28538796-331c-4afb-bd18-0d44c003df68"
      },
      "source": [
        "list(range(1, 10, 2)) #list with difference of 2"
      ],
      "execution_count": 60,
      "outputs": [
        {
          "output_type": "execute_result",
          "data": {
            "text/plain": [
              "[1, 3, 5, 7, 9]"
            ]
          },
          "metadata": {
            "tags": []
          },
          "execution_count": 60
        }
      ]
    },
    {
      "cell_type": "code",
      "metadata": {
        "colab": {
          "base_uri": "https://localhost:8080/"
        },
        "id": "v-eBzHUSPn3B",
        "outputId": "577598dd-4d21-4721-d0c9-67106d7e35a3"
      },
      "source": [
        "np.arange(1,10,2) #Numpy Range"
      ],
      "execution_count": 68,
      "outputs": [
        {
          "output_type": "execute_result",
          "data": {
            "text/plain": [
              "array([1, 3, 5, 7, 9])"
            ]
          },
          "metadata": {
            "tags": []
          },
          "execution_count": 68
        }
      ]
    },
    {
      "cell_type": "code",
      "metadata": {
        "colab": {
          "base_uri": "https://localhost:8080/"
        },
        "id": "ZiLk6LZEP5zF",
        "outputId": "466ebfad-7128-4006-e5bf-3293dbcaf43e"
      },
      "source": [
        "np.linspace(0, 1, 11)"
      ],
      "execution_count": 70,
      "outputs": [
        {
          "output_type": "execute_result",
          "data": {
            "text/plain": [
              "array([0. , 0.1, 0.2, 0.3, 0.4, 0.5, 0.6, 0.7, 0.8, 0.9, 1. ])"
            ]
          },
          "metadata": {
            "tags": []
          },
          "execution_count": 70
        }
      ]
    },
    {
      "cell_type": "code",
      "metadata": {
        "colab": {
          "base_uri": "https://localhost:8080/"
        },
        "id": "tYBxmsd2QJUp",
        "outputId": "890fea01-81e9-4d1b-9011-f1e1b29d19ca"
      },
      "source": [
        "np.array([1,2,3]) + ([4,5,7]) #Addition of Two Arrays"
      ],
      "execution_count": 71,
      "outputs": [
        {
          "output_type": "execute_result",
          "data": {
            "text/plain": [
              "array([ 5,  7, 10])"
            ]
          },
          "metadata": {
            "tags": []
          },
          "execution_count": 71
        }
      ]
    },
    {
      "cell_type": "code",
      "metadata": {
        "colab": {
          "base_uri": "https://localhost:8080/"
        },
        "id": "ZoUAX9kmREor",
        "outputId": "e4a8dece-3c8d-4ed7-e273-f75133d39568"
      },
      "source": [
        "np.array([1,2,3]) * np.array([1,3,4]) #Multiplication"
      ],
      "execution_count": 77,
      "outputs": [
        {
          "output_type": "execute_result",
          "data": {
            "text/plain": [
              "array([ 1,  6, 12])"
            ]
          },
          "metadata": {
            "tags": []
          },
          "execution_count": 77
        }
      ]
    },
    {
      "cell_type": "code",
      "metadata": {
        "colab": {
          "base_uri": "https://localhost:8080/"
        },
        "id": "i1jXAetlRTQ2",
        "outputId": "759ce77f-0aff-4cf9-9994-029a5fe0cd6b"
      },
      "source": [
        "np.array([2,3]) * 5 #Multiplication with 5"
      ],
      "execution_count": 78,
      "outputs": [
        {
          "output_type": "execute_result",
          "data": {
            "text/plain": [
              "array([10, 15])"
            ]
          },
          "metadata": {
            "tags": []
          },
          "execution_count": 78
        }
      ]
    },
    {
      "cell_type": "code",
      "metadata": {
        "colab": {
          "base_uri": "https://localhost:8080/"
        },
        "id": "IpE1a_b0Rkvo",
        "outputId": "14e92ff3-84e0-45e8-fc20-9e037c26e184"
      },
      "source": [
        "x = np.random.randint(10, size=(4,4))\n",
        "y = np.random.randint(20, size=(6,1)) #if there is only 6 then it will treat as only single value\n",
        "z = np.random.randint(30, size=(2,3))\n",
        "x\n",
        "x[0, 3]"
      ],
      "execution_count": 94,
      "outputs": [
        {
          "output_type": "execute_result",
          "data": {
            "text/plain": [
              "2"
            ]
          },
          "metadata": {
            "tags": []
          },
          "execution_count": 94
        }
      ]
    },
    {
      "cell_type": "markdown",
      "metadata": {
        "id": "3T-2XfR4dWr8"
      },
      "source": [
        "# **Basics of NumPy Arrays**"
      ]
    },
    {
      "cell_type": "markdown",
      "metadata": {
        "id": "vV2Afl2XdinY"
      },
      "source": [
        "## **1. NumPy Array Attributes**\r\n",
        "*Determining the size, shape, memory consumption, and data types of arrays*"
      ]
    },
    {
      "cell_type": "code",
      "metadata": {
        "id": "OzB-3JBadaW_"
      },
      "source": [
        "#Define three random arrays, a one-dimensional, two-dimensional, and three-dimensional array. \r\n",
        "#We'll use NumPy's random number generator.\r\n",
        "#Use 'seed' to ensure that the same random arrays are generated each time this code is run.\r\n",
        "\r\n",
        "np.random.seed(0)  # seed for reproducibility\r\n",
        "\r\n",
        "x1 = np.random.randint(10, size=6)  # One-dimensional array\r\n",
        "x2 = np.random.randint(10, size=(3, 4))  # Two-dimensional array\r\n",
        "x3 = np.random.randint(10, size=(3, 4, 5))  # Three-dimensional array"
      ],
      "execution_count": 49,
      "outputs": []
    },
    {
      "cell_type": "code",
      "metadata": {
        "colab": {
          "base_uri": "https://localhost:8080/"
        },
        "id": "UQSUNLyweZBk",
        "outputId": "3081c240-ef9c-4df6-d362-6f7d8b02c9c1"
      },
      "source": [
        "#Each array has attributes:\r\n",
        "# (1) ndim (the number of dimensions), \r\n",
        "# (2) shape (the size of each dimension), and \r\n",
        "# (3) size (the total size of the array)\r\n",
        "\r\n",
        "print(\"x3 ndim: \", x3.ndim)\r\n",
        "print(\"x3 shape:\", x3.shape)\r\n",
        "print(\"x3 size: \", x3.size)"
      ],
      "execution_count": 48,
      "outputs": [
        {
          "output_type": "stream",
          "text": [
            "x3 ndim:  3\n",
            "x3 shape: (3, 4, 5)\n",
            "x3 size:  60\n"
          ],
          "name": "stdout"
        }
      ]
    },
    {
      "cell_type": "markdown",
      "metadata": {
        "id": "1NtD_zQTewXv"
      },
      "source": [
        "## **2. NumPy Array Indexing**\r\n",
        "*Getting and setting the value of individual array elements*"
      ]
    },
    {
      "cell_type": "code",
      "metadata": {
        "colab": {
          "base_uri": "https://localhost:8080/"
        },
        "id": "fqdgjcEdfpjA",
        "outputId": "aa491149-31f4-441b-b06c-ebcd6d2e60e7"
      },
      "source": [
        "#Print x1\r\n",
        "x1"
      ],
      "execution_count": 61,
      "outputs": [
        {
          "output_type": "execute_result",
          "data": {
            "text/plain": [
              "array([5, 0, 3, 3, 7, 9])"
            ]
          },
          "metadata": {
            "tags": []
          },
          "execution_count": 61
        }
      ]
    },
    {
      "cell_type": "code",
      "metadata": {
        "colab": {
          "base_uri": "https://localhost:8080/"
        },
        "id": "ZjgVsji-f1FA",
        "outputId": "764bb72e-92a6-4a63-b1d4-f3cccab8eb83"
      },
      "source": [
        "#Access first element from x1 (1D Array)\r\n",
        "#This is similar to accessing elements from lists in Python\r\n",
        "x1[0]"
      ],
      "execution_count": 62,
      "outputs": [
        {
          "output_type": "execute_result",
          "data": {
            "text/plain": [
              "5"
            ]
          },
          "metadata": {
            "tags": []
          },
          "execution_count": 62
        }
      ]
    },
    {
      "cell_type": "code",
      "metadata": {
        "colab": {
          "base_uri": "https://localhost:8080/"
        },
        "id": "2g1b54oFf1Hg",
        "outputId": "aad629f0-fda3-46a3-ed91-5172ad8e23e9"
      },
      "source": [
        "#Access second last element from x1\r\n",
        "x1[-2]"
      ],
      "execution_count": 63,
      "outputs": [
        {
          "output_type": "execute_result",
          "data": {
            "text/plain": [
              "7"
            ]
          },
          "metadata": {
            "tags": []
          },
          "execution_count": 63
        }
      ]
    },
    {
      "cell_type": "code",
      "metadata": {
        "colab": {
          "base_uri": "https://localhost:8080/"
        },
        "id": "zIJuKm2agbvF",
        "outputId": "4002dc64-659b-408b-aba5-687705ce8be8"
      },
      "source": [
        "#Print x2\r\n",
        "x2"
      ],
      "execution_count": 64,
      "outputs": [
        {
          "output_type": "execute_result",
          "data": {
            "text/plain": [
              "array([[3, 5, 2, 4],\n",
              "       [7, 6, 8, 8],\n",
              "       [1, 6, 7, 7]])"
            ]
          },
          "metadata": {
            "tags": []
          },
          "execution_count": 64
        }
      ]
    },
    {
      "cell_type": "code",
      "metadata": {
        "colab": {
          "base_uri": "https://localhost:8080/"
        },
        "id": "YNmAF-Swf1Le",
        "outputId": "7e41cc7b-d284-49a5-ac62-f3d139d61bc6"
      },
      "source": [
        "#Access element at first row, fist column in x2 (2D Array)\r\n",
        "x2[0, 0]"
      ],
      "execution_count": 65,
      "outputs": [
        {
          "output_type": "execute_result",
          "data": {
            "text/plain": [
              "3"
            ]
          },
          "metadata": {
            "tags": []
          },
          "execution_count": 65
        }
      ]
    },
    {
      "cell_type": "code",
      "metadata": {
        "colab": {
          "base_uri": "https://localhost:8080/"
        },
        "id": "lWN0b9Obf1Nz",
        "outputId": "b72c870a-d3cc-4edb-a771-3b27d28b20d9"
      },
      "source": [
        "#Access element at third row, fourth column from reverse in x2 \r\n",
        "print(\"Old value:\", x2[2, -4])\r\n",
        "\r\n",
        "#Set value of element at third row, fourth column from reverse in x2 to 11\r\n",
        "x2[2, -4] = 11\r\n",
        "print(\"New value:\", x2[2, -4])"
      ],
      "execution_count": 66,
      "outputs": [
        {
          "output_type": "stream",
          "text": [
            "Old value: 1\n",
            "New value: 11\n"
          ],
          "name": "stdout"
        }
      ]
    },
    {
      "cell_type": "markdown",
      "metadata": {
        "id": "b6i3L8XVfJMm"
      },
      "source": [
        "## **3. NumPy Array Slicing**\r\n",
        "*Getting and setting smaller subarrays within a larger array*"
      ]
    },
    {
      "cell_type": "markdown",
      "metadata": {
        "id": "1wHwsD-NYX-7"
      },
      "source": [
        "Just as we can use square brackets to access individual array elements, we can also use them to access subarrays with the *slice* notation, marked by the colon (``:``) character.\n",
        "The NumPy slicing syntax follows that of the standard Python list; to access a slice of an array ``x``, use this:\n",
        "``` python\n",
        "x[start:stop:step]\n",
        "```\n",
        "If any of these are unspecified, they default to the values ``start=0``, ``stop=``*``size of dimension``*, ``step=1``.\n",
        "We'll take a look at accessing sub-arrays in one dimension and in multiple dimensions."
      ]
    },
    {
      "cell_type": "markdown",
      "metadata": {
        "id": "CbTu1RHuhwyO"
      },
      "source": [
        "### **3.1 One-dimensional subarrays**"
      ]
    },
    {
      "cell_type": "code",
      "metadata": {
        "colab": {
          "base_uri": "https://localhost:8080/"
        },
        "id": "y1rGYuNQhe39",
        "outputId": "a6fc1af6-6629-4027-afba-16d9c41744e0"
      },
      "source": [
        "x1"
      ],
      "execution_count": 95,
      "outputs": [
        {
          "output_type": "execute_result",
          "data": {
            "text/plain": [
              "array([5, 0, 3, 3, 7, 9])"
            ]
          },
          "metadata": {
            "tags": []
          },
          "execution_count": 95
        }
      ]
    },
    {
      "cell_type": "code",
      "metadata": {
        "colab": {
          "base_uri": "https://localhost:8080/"
        },
        "id": "gVwweQ1The6S",
        "outputId": "2415cb90-84a7-4036-9f9c-fb76a77d7e2a"
      },
      "source": [
        "print(x1[:3])  # first three elements\r\n",
        "print(x1[4:])  # elements after index 4\r\n",
        "print(x1[1:4])  # middle sub-array\r\n",
        "print(x1[::-1])  # all elements, reversed\r\n",
        "print(x1[4::-2])  # reversed every other from index 4"
      ],
      "execution_count": 96,
      "outputs": [
        {
          "output_type": "stream",
          "text": [
            "[5 0 3]\n",
            "[7 9]\n",
            "[0 3 3]\n",
            "[9 7 3 3 0 5]\n",
            "[7 3 5]\n"
          ],
          "name": "stdout"
        }
      ]
    },
    {
      "cell_type": "markdown",
      "metadata": {
        "id": "DIHEK1q3jEl5"
      },
      "source": [
        "### **3.2 Multi-dimensional subarrays**"
      ]
    },
    {
      "cell_type": "code",
      "metadata": {
        "colab": {
          "base_uri": "https://localhost:8080/"
        },
        "id": "W9MNzpYche8Z",
        "outputId": "f43915e8-b918-4949-9c89-21b441c7d499"
      },
      "source": [
        "x2"
      ],
      "execution_count": 105,
      "outputs": [
        {
          "output_type": "execute_result",
          "data": {
            "text/plain": [
              "array([[99,  5,  2,  4],\n",
              "       [ 7,  6,  8,  8],\n",
              "       [11,  6,  7,  7]])"
            ]
          },
          "metadata": {
            "tags": []
          },
          "execution_count": 105
        }
      ]
    },
    {
      "cell_type": "code",
      "metadata": {
        "colab": {
          "base_uri": "https://localhost:8080/"
        },
        "id": "0R7H7AU3VXbn",
        "outputId": "e63b4111-93ba-4632-c8cd-ef44a0c4b2a0"
      },
      "source": [
        "x2[0, 2:3] "
      ],
      "execution_count": 113,
      "outputs": [
        {
          "output_type": "execute_result",
          "data": {
            "text/plain": [
              "array([2])"
            ]
          },
          "metadata": {
            "tags": []
          },
          "execution_count": 113
        }
      ]
    },
    {
      "cell_type": "code",
      "metadata": {
        "colab": {
          "base_uri": "https://localhost:8080/"
        },
        "id": "EfcDBj-phfCW",
        "outputId": "2e61359f-708e-47a2-e5b2-f643c575a904"
      },
      "source": [
        "x2[:2, :3]  # two rows, three columns"
      ],
      "execution_count": 106,
      "outputs": [
        {
          "output_type": "execute_result",
          "data": {
            "text/plain": [
              "array([[99,  5,  2],\n",
              "       [ 7,  6,  8]])"
            ]
          },
          "metadata": {
            "tags": []
          },
          "execution_count": 106
        }
      ]
    },
    {
      "cell_type": "code",
      "metadata": {
        "colab": {
          "base_uri": "https://localhost:8080/"
        },
        "id": "V6fWnjJxhfSm",
        "outputId": "61980889-761a-4000-8f16-868f1e3756ab"
      },
      "source": [
        "x2[:3, ::2]  # all rows, every other column"
      ],
      "execution_count": 107,
      "outputs": [
        {
          "output_type": "execute_result",
          "data": {
            "text/plain": [
              "array([[99,  2],\n",
              "       [ 7,  8],\n",
              "       [11,  7]])"
            ]
          },
          "metadata": {
            "tags": []
          },
          "execution_count": 107
        }
      ]
    },
    {
      "cell_type": "code",
      "metadata": {
        "colab": {
          "base_uri": "https://localhost:8080/"
        },
        "id": "SwzQYafFhfVt",
        "outputId": "3bbea7f1-bed4-4611-9d03-ea3a6529e01c"
      },
      "source": [
        "print(x2[:, 0])  # first column of x2"
      ],
      "execution_count": 108,
      "outputs": [
        {
          "output_type": "stream",
          "text": [
            "[99  7 11]\n"
          ],
          "name": "stdout"
        }
      ]
    },
    {
      "cell_type": "code",
      "metadata": {
        "colab": {
          "base_uri": "https://localhost:8080/"
        },
        "id": "Y9_cdnrAjdYc",
        "outputId": "4b80e9a9-68b9-47e4-fbf5-0cecd56bb4b4"
      },
      "source": [
        "print(x2[-1, :])  # last row of x2"
      ],
      "execution_count": 109,
      "outputs": [
        {
          "output_type": "stream",
          "text": [
            "[11  6  7  7]\n"
          ],
          "name": "stdout"
        }
      ]
    },
    {
      "cell_type": "markdown",
      "metadata": {
        "id": "uE1nzj-Dl4N8"
      },
      "source": [
        "### **3.3 Creating copies of arrays**"
      ]
    },
    {
      "cell_type": "code",
      "metadata": {
        "colab": {
          "base_uri": "https://localhost:8080/"
        },
        "id": "BJXAbglUjdeD",
        "outputId": "ae3fc822-b6ee-49a2-abb6-3c7705d5cad5"
      },
      "source": [
        "print(x2)\r\n",
        "\r\n",
        "#Extract a  2×2  subarray from x2\r\n",
        "x2_sub = x2[:2, :2]\r\n",
        "print(\"\\n\", x2_sub)"
      ],
      "execution_count": 102,
      "outputs": [
        {
          "output_type": "stream",
          "text": [
            "[[ 3  5  2  4]\n",
            " [ 7  6  8  8]\n",
            " [11  6  7  7]]\n",
            "\n",
            " [[3 5]\n",
            " [7 6]]\n"
          ],
          "name": "stdout"
        }
      ]
    },
    {
      "cell_type": "code",
      "metadata": {
        "colab": {
          "base_uri": "https://localhost:8080/"
        },
        "id": "PA1KSRldjdgj",
        "outputId": "e9fc9187-ca05-43fe-e80f-2a3927727422"
      },
      "source": [
        "#Now if we modify this subarray, we'll see that the original array is changed!\r\n",
        "x2_sub[0, 0] = 99\r\n",
        "print(x2_sub)\r\n",
        "print(\"\\n\", x2)"
      ],
      "execution_count": 103,
      "outputs": [
        {
          "output_type": "stream",
          "text": [
            "[[99  5]\n",
            " [ 7  6]]\n",
            "\n",
            " [[99  5  2  4]\n",
            " [ 7  6  8  8]\n",
            " [11  6  7  7]]\n"
          ],
          "name": "stdout"
        }
      ]
    },
    {
      "cell_type": "code",
      "metadata": {
        "colab": {
          "base_uri": "https://localhost:8080/"
        },
        "id": "bpE9hdLqm5TF",
        "outputId": "3750ae3a-711c-493c-84ce-e507be969a43"
      },
      "source": [
        "#To copy the data within an array or a subarray use the copy() method\r\n",
        "x2_sub_copy = x2[:2, :2].copy()\r\n",
        "print(x2_sub_copy)\r\n",
        "\r\n",
        "x2_sub_copy[0, 0] = 42\r\n",
        "print(\"\\n\", x2_sub_copy)\r\n",
        "\r\n",
        "print(\"\\n\", x2)"
      ],
      "execution_count": 104,
      "outputs": [
        {
          "output_type": "stream",
          "text": [
            "[[99  5]\n",
            " [ 7  6]]\n",
            "\n",
            " [[42  5]\n",
            " [ 7  6]]\n",
            "\n",
            " [[99  5  2  4]\n",
            " [ 7  6  8  8]\n",
            " [11  6  7  7]]\n"
          ],
          "name": "stdout"
        }
      ]
    },
    {
      "cell_type": "markdown",
      "metadata": {
        "id": "1VLKIwDkfKQj"
      },
      "source": [
        "## **4. NumPy Array Reshaping**\r\n",
        "*Changing the shape of a given array*"
      ]
    },
    {
      "cell_type": "code",
      "metadata": {
        "colab": {
          "base_uri": "https://localhost:8080/"
        },
        "id": "vDTD3VQlqbqf",
        "outputId": "9b9336d2-0653-4bd7-c11b-79652294f33f"
      },
      "source": [
        "grid = np.arange(1, 10)\r\n",
        "print(grid)\r\n",
        "\r\n",
        "grid = np.arange(1, 10).reshape((3, 3))\r\n",
        "print(\"\\n\", grid)"
      ],
      "execution_count": 114,
      "outputs": [
        {
          "output_type": "stream",
          "text": [
            "[1 2 3 4 5 6 7 8 9]\n",
            "\n",
            " [[1 2 3]\n",
            " [4 5 6]\n",
            " [7 8 9]]\n"
          ],
          "name": "stdout"
        }
      ]
    },
    {
      "cell_type": "code",
      "metadata": {
        "colab": {
          "base_uri": "https://localhost:8080/"
        },
        "id": "JbnT1ihCqb3X",
        "outputId": "31ed04a8-0aa4-402a-8b1e-8d00496b9f54"
      },
      "source": [
        "x = np.array([1, 2, 3])\r\n",
        "print(x)\r\n",
        "\r\n",
        "# row vector via reshape\r\n",
        "print(\"\\n\", x.reshape((1, 3)))\r\n",
        "\r\n",
        "# column vector via reshape\r\n",
        "print(\"\\n\", x.reshape((3, 1)))"
      ],
      "execution_count": null,
      "outputs": [
        {
          "output_type": "stream",
          "text": [
            "[1 2 3]\n",
            "\n",
            " [[1 2 3]]\n",
            "\n",
            " [[1]\n",
            " [2]\n",
            " [3]]\n"
          ],
          "name": "stdout"
        }
      ]
    },
    {
      "cell_type": "markdown",
      "metadata": {
        "id": "iPYzdesLqRUw"
      },
      "source": [
        "## **5. NumPy Array Concatenation and Splitting**\r\n",
        "*Combining multiple arrays into one, and splitting one array into many*"
      ]
    },
    {
      "cell_type": "code",
      "metadata": {
        "colab": {
          "base_uri": "https://localhost:8080/"
        },
        "id": "Qli0kVAinUnZ",
        "outputId": "a6b281fc-aab2-48e8-9830-0af20b58ea66"
      },
      "source": [
        "#Array concatenation: One-dimensional array\r\n",
        "\r\n",
        "x = np.array([1, 2, 3])\r\n",
        "y = np.array([3, 2, 1])\r\n",
        "z = np.array([99, 99, 99])\r\n",
        "print(np.concatenate([x, y, z]))"
      ],
      "execution_count": 115,
      "outputs": [
        {
          "output_type": "stream",
          "text": [
            "[ 1  2  3  3  2  1 99 99 99]\n"
          ],
          "name": "stdout"
        }
      ]
    },
    {
      "cell_type": "code",
      "metadata": {
        "colab": {
          "base_uri": "https://localhost:8080/"
        },
        "id": "CVFdKo9gnVAn",
        "outputId": "87f48bc0-8a44-4425-b4eb-ebd94397485d"
      },
      "source": [
        "#Array concatenation: Two-dimensional array\r\n",
        "\r\n",
        "grid = np.array([[1, 2, 3],\r\n",
        "                 [4, 5, 6]])\r\n",
        "\r\n",
        "# concatenate along the first axis\r\n",
        "print(np.concatenate([grid, grid]))\r\n",
        "\r\n",
        "# concatenate along the second axis (zero-indexed)\r\n",
        "print(\"\\n\", np.concatenate([grid, grid], axis=1))"
      ],
      "execution_count": 116,
      "outputs": [
        {
          "output_type": "stream",
          "text": [
            "[[1 2 3]\n",
            " [4 5 6]\n",
            " [1 2 3]\n",
            " [4 5 6]]\n",
            "\n",
            " [[1 2 3 1 2 3]\n",
            " [4 5 6 4 5 6]]\n"
          ],
          "name": "stdout"
        }
      ]
    },
    {
      "cell_type": "code",
      "metadata": {
        "colab": {
          "base_uri": "https://localhost:8080/"
        },
        "id": "AkSnqcutnVGS",
        "outputId": "d493eaee-7c09-44a2-91be-bc39f2d4bbca"
      },
      "source": [
        "#Array concatenation: Arrays with mixed dimensions\r\n",
        "\r\n",
        "#When working with arrays of mixed dimensions, it can be clearer to use:\r\n",
        "# (1) np.vstack (vertical stack) and \r\n",
        "# (2) np.hstack (horizontal stack) functions\r\n",
        "\r\n",
        "x = np.array([1, 2, 3])\r\n",
        "grid = np.array([[9, 8, 7],\r\n",
        "                 [6, 5, 4]])\r\n",
        "\r\n",
        "# vertically stack the arrays\r\n",
        "print(np.vstack([x, grid]))\r\n",
        "\r\n",
        "# horizontally stack the arrays\r\n",
        "y = np.array([[99],\r\n",
        "              [99]])\r\n",
        "print(\"\\n\", np.hstack([grid, y]))"
      ],
      "execution_count": 117,
      "outputs": [
        {
          "output_type": "stream",
          "text": [
            "[[1 2 3]\n",
            " [9 8 7]\n",
            " [6 5 4]]\n",
            "\n",
            " [[ 9  8  7 99]\n",
            " [ 6  5  4 99]]\n"
          ],
          "name": "stdout"
        }
      ]
    },
    {
      "cell_type": "code",
      "metadata": {
        "colab": {
          "base_uri": "https://localhost:8080/"
        },
        "id": "5sey3m2Go1e3",
        "outputId": "70bff83b-0f9f-40cd-e81b-ecc837668079"
      },
      "source": [
        "#Splitting of arrays\r\n",
        "\r\n",
        "x = [1, 2, 3, 99, 99, 3, 2, 1]\r\n",
        "x1, x2, x3 = np.split(x, [3, 5]) #Here '3' and '5' are split indices\r\n",
        "print(x1, x2, x3)"
      ],
      "execution_count": 118,
      "outputs": [
        {
          "output_type": "stream",
          "text": [
            "[1 2 3] [99 99] [3 2 1]\n"
          ],
          "name": "stdout"
        }
      ]
    },
    {
      "cell_type": "code",
      "metadata": {
        "colab": {
          "base_uri": "https://localhost:8080/"
        },
        "id": "n_pQ9w-ApdpL",
        "outputId": "326b8ad0-c6b4-4ae4-dee6-6a8cdf89cfee"
      },
      "source": [
        "grid = np.arange(16).reshape((4, 4))\r\n",
        "grid"
      ],
      "execution_count": 119,
      "outputs": [
        {
          "output_type": "execute_result",
          "data": {
            "text/plain": [
              "array([[ 0,  1,  2,  3],\n",
              "       [ 4,  5,  6,  7],\n",
              "       [ 8,  9, 10, 11],\n",
              "       [12, 13, 14, 15]])"
            ]
          },
          "metadata": {
            "tags": []
          },
          "execution_count": 119
        }
      ]
    },
    {
      "cell_type": "code",
      "metadata": {
        "colab": {
          "base_uri": "https://localhost:8080/"
        },
        "id": "ygid9xE5p-Za",
        "outputId": "b5ebba30-c8ee-4c42-c7e4-ce93be25ca61"
      },
      "source": [
        "upper, lower = np.vsplit(grid, [2])\r\n",
        "print(upper)\r\n",
        "print(\"\\n\", lower)"
      ],
      "execution_count": 120,
      "outputs": [
        {
          "output_type": "stream",
          "text": [
            "[[0 1 2 3]\n",
            " [4 5 6 7]]\n",
            "\n",
            " [[ 8  9 10 11]\n",
            " [12 13 14 15]]\n"
          ],
          "name": "stdout"
        }
      ]
    },
    {
      "cell_type": "code",
      "metadata": {
        "colab": {
          "base_uri": "https://localhost:8080/"
        },
        "id": "y1XJxcdFqDno",
        "outputId": "278f0d2d-a52b-4492-87eb-cc5ac2662080"
      },
      "source": [
        "left, right = np.hsplit(grid, [2])\r\n",
        "print(left)\r\n",
        "print(\"\\n\", right)"
      ],
      "execution_count": 121,
      "outputs": [
        {
          "output_type": "stream",
          "text": [
            "[[ 0  1]\n",
            " [ 4  5]\n",
            " [ 8  9]\n",
            " [12 13]]\n",
            "\n",
            " [[ 2  3]\n",
            " [ 6  7]\n",
            " [10 11]\n",
            " [14 15]]\n"
          ],
          "name": "stdout"
        }
      ]
    },
    {
      "cell_type": "markdown",
      "metadata": {
        "id": "XPH9QQ-6rhVL"
      },
      "source": [
        "# **Computation on NumPy Arrays: Universal Functions (ufuncs)**"
      ]
    },
    {
      "cell_type": "code",
      "metadata": {
        "colab": {
          "base_uri": "https://localhost:8080/"
        },
        "id": "pTB6ctmIrnxm",
        "outputId": "ee37d6b9-ac58-42de-d857-b01ea2ab6e3c"
      },
      "source": [
        "#Set 1: Array Arithmetic\r\n",
        "\r\n",
        "x = np.arange(4)\r\n",
        "print(\"x     =\", x)\r\n",
        "print(\"x + 2 =\", x + 2)\r\n",
        "print(\"x - 5 =\", x - 5)\r\n",
        "print(\"x * 2 =\", x * 2)\r\n",
        "print(\"x / 2 =\", x / 2)\r\n",
        "print(\"x // 2 =\", x // 2)  # floor division\r\n",
        "print(\"-x     = \", -x)\r\n",
        "print(\"x ** 2 = \", x ** 2)\r\n",
        "print(\"x % 2  = \", x % 2)"
      ],
      "execution_count": null,
      "outputs": [
        {
          "output_type": "stream",
          "text": [
            "x     = [0 1 2 3]\n",
            "x + 2 = [2 3 4 5]\n",
            "x - 5 = [-5 -4 -3 -2]\n",
            "x * 2 = [0 2 4 6]\n",
            "x / 2 = [0.  0.5 1.  1.5]\n",
            "x // 2 = [0 0 1 1]\n",
            "-x     =  [ 0 -1 -2 -3]\n",
            "x ** 2 =  [0 1 4 9]\n",
            "x % 2  =  [0 1 0 1]\n"
          ],
          "name": "stdout"
        }
      ]
    },
    {
      "cell_type": "code",
      "metadata": {
        "colab": {
          "base_uri": "https://localhost:8080/"
        },
        "id": "zTpxU4SLsf33",
        "outputId": "b745fbff-825c-4d06-b8e4-74df38d5f40b"
      },
      "source": [
        "np.add(x, 2)"
      ],
      "execution_count": null,
      "outputs": [
        {
          "output_type": "execute_result",
          "data": {
            "text/plain": [
              "array([2, 3, 4, 5])"
            ]
          },
          "metadata": {
            "tags": []
          },
          "execution_count": 152
        }
      ]
    },
    {
      "cell_type": "markdown",
      "metadata": {
        "id": "mUjyFYQ-Ycg0"
      },
      "source": [
        "The following table lists the arithmetic operators implemented in NumPy:\n",
        "\n",
        "| Operator\t    | Equivalent ufunc    | Description                           |\n",
        "|---------------|---------------------|---------------------------------------|\n",
        "|``+``          |``np.add``           |Addition (e.g., ``1 + 1 = 2``)         |\n",
        "|``-``          |``np.subtract``      |Subtraction (e.g., ``3 - 2 = 1``)      |\n",
        "|``-``          |``np.negative``      |Unary negation (e.g., ``-2``)          |\n",
        "|``*``          |``np.multiply``      |Multiplication (e.g., ``2 * 3 = 6``)   |\n",
        "|``/``          |``np.divide``        |Division (e.g., ``3 / 2 = 1.5``)       |\n",
        "|``//``         |``np.floor_divide``  |Floor division (e.g., ``3 // 2 = 1``)  |\n",
        "|``**``         |``np.power``         |Exponentiation (e.g., ``2 ** 3 = 8``)  |\n",
        "|``%``          |``np.mod``           |Modulus/remainder (e.g., ``9 % 4 = 1``)|\n"
      ]
    },
    {
      "cell_type": "code",
      "metadata": {
        "colab": {
          "base_uri": "https://localhost:8080/"
        },
        "id": "7GBr33ZbstT8",
        "outputId": "9c3a748d-66fe-4140-b231-5538f2f7ffed"
      },
      "source": [
        "#Set 2: Absolute Value\r\n",
        "\r\n",
        "x = np.array([-2, -1, 0, 1, 2])\r\n",
        "print(abs(x))\r\n",
        "print(np.absolute(x))\r\n",
        "print(np.abs(x))"
      ],
      "execution_count": null,
      "outputs": [
        {
          "output_type": "stream",
          "text": [
            "[2 1 0 1 2]\n",
            "[2 1 0 1 2]\n",
            "[2 1 0 1 2]\n"
          ],
          "name": "stdout"
        }
      ]
    },
    {
      "cell_type": "code",
      "metadata": {
        "colab": {
          "base_uri": "https://localhost:8080/"
        },
        "id": "pT-1vy1ltAFi",
        "outputId": "a1a9a192-cf6a-4eeb-8a89-f8165e32476c"
      },
      "source": [
        "#Set 3: Trigonometric Functions\r\n",
        "\r\n",
        "theta = np.linspace(0, np.pi, 3)\r\n",
        "print(\"theta      = \", theta)\r\n",
        "print(\"sin(theta) = \", np.sin(theta))\r\n",
        "print(\"cos(theta) = \", np.cos(theta))\r\n",
        "print(\"tan(theta) = \", np.tan(theta))\r\n",
        "\r\n",
        "x = [-1, 0, 1]\r\n",
        "print(\"\\nx         = \", x)\r\n",
        "print(\"arcsin(x) = \", np.arcsin(x))\r\n",
        "print(\"arccos(x) = \", np.arccos(x))\r\n",
        "print(\"arctan(x) = \", np.arctan(x))"
      ],
      "execution_count": null,
      "outputs": [
        {
          "output_type": "stream",
          "text": [
            "theta      =  [0.         1.57079633 3.14159265]\n",
            "sin(theta) =  [0.0000000e+00 1.0000000e+00 1.2246468e-16]\n",
            "cos(theta) =  [ 1.000000e+00  6.123234e-17 -1.000000e+00]\n",
            "tan(theta) =  [ 0.00000000e+00  1.63312394e+16 -1.22464680e-16]\n",
            "\n",
            "x         =  [-1, 0, 1]\n",
            "arcsin(x) =  [-1.57079633  0.          1.57079633]\n",
            "arccos(x) =  [3.14159265 1.57079633 0.        ]\n",
            "arctan(x) =  [-0.78539816  0.          0.78539816]\n"
          ],
          "name": "stdout"
        }
      ]
    },
    {
      "cell_type": "code",
      "metadata": {
        "colab": {
          "base_uri": "https://localhost:8080/"
        },
        "id": "DerLcO6GtaPn",
        "outputId": "9350fbf2-00a4-4f33-c8dd-db1998066d54"
      },
      "source": [
        "#Set 4: Exponents and Logarithms\r\n",
        "\r\n",
        "x = [1, 2, 3]\r\n",
        "print(\"x     =\", x)\r\n",
        "print(\"e^x   =\", np.exp(x))\r\n",
        "print(\"2^x   =\", np.exp2(x))\r\n",
        "print(\"3^x   =\", np.power(3, x))\r\n",
        "\r\n",
        "x = [1, 2, 4, 10]\r\n",
        "print(\"\\nx        =\", x)\r\n",
        "print(\"ln(x)    =\", np.log(x))\r\n",
        "print(\"log2(x)  =\", np.log2(x))\r\n",
        "print(\"log10(x) =\", np.log10(x))"
      ],
      "execution_count": null,
      "outputs": [
        {
          "output_type": "stream",
          "text": [
            "x     = [1, 2, 3]\n",
            "e^x   = [ 2.71828183  7.3890561  20.08553692]\n",
            "2^x   = [2. 4. 8.]\n",
            "3^x   = [ 3  9 27]\n",
            "\n",
            "x        = [1, 2, 4, 10]\n",
            "ln(x)    = [0.         0.69314718 1.38629436 2.30258509]\n",
            "log2(x)  = [0.         1.         2.         3.32192809]\n",
            "log10(x) = [0.         0.30103    0.60205999 1.        ]\n"
          ],
          "name": "stdout"
        }
      ]
    },
    {
      "cell_type": "markdown",
      "metadata": {
        "id": "gFDVuAFqt15m"
      },
      "source": [
        "# **Aggregations: Min, Max, and Everything In Between**"
      ]
    },
    {
      "cell_type": "code",
      "metadata": {
        "colab": {
          "base_uri": "https://localhost:8080/"
        },
        "id": "1JG-Bw7Nunpw",
        "outputId": "3233cdb1-1802-47b4-99d8-886a6222d52b"
      },
      "source": [
        "x = np.arange(1, 11)\r\n",
        "print(x)"
      ],
      "execution_count": null,
      "outputs": [
        {
          "output_type": "stream",
          "text": [
            "[ 1  2  3  4  5  6  7  8  9 10]\n"
          ],
          "name": "stdout"
        }
      ]
    },
    {
      "cell_type": "code",
      "metadata": {
        "colab": {
          "base_uri": "https://localhost:8080/"
        },
        "id": "Eu6xAoLku83X",
        "outputId": "b5f8fb24-10de-4a19-8ee9-8cd9969d145f"
      },
      "source": [
        "#Find min, max and sum over 1D array\r\n",
        "np.min(x), np.max(x), np.sum(x)"
      ],
      "execution_count": null,
      "outputs": [
        {
          "output_type": "execute_result",
          "data": {
            "text/plain": [
              "(1, 10, 55)"
            ]
          },
          "metadata": {
            "tags": []
          },
          "execution_count": 157
        }
      ]
    },
    {
      "cell_type": "code",
      "metadata": {
        "colab": {
          "base_uri": "https://localhost:8080/"
        },
        "id": "bUbyUyZ6vFKF",
        "outputId": "58f80200-2880-4d01-8265-c651e76131d3"
      },
      "source": [
        "#Create a multi-dimensional 3x3 array with values from 1 to 9\r\n",
        "M = np.arange(1, 10).reshape((3, 3))\r\n",
        "print(M)"
      ],
      "execution_count": null,
      "outputs": [
        {
          "output_type": "stream",
          "text": [
            "[[1 2 3]\n",
            " [4 5 6]\n",
            " [7 8 9]]\n"
          ],
          "name": "stdout"
        }
      ]
    },
    {
      "cell_type": "code",
      "metadata": {
        "colab": {
          "base_uri": "https://localhost:8080/"
        },
        "id": "daI34dcBvYyP",
        "outputId": "18ab0ec5-6a74-460d-a98b-31602957d736"
      },
      "source": [
        "#Find min, max and sum over multidimensional array\r\n",
        "np.min(M), np.max(M), np.sum(M)"
      ],
      "execution_count": null,
      "outputs": [
        {
          "output_type": "execute_result",
          "data": {
            "text/plain": [
              "(1, 9, 45)"
            ]
          },
          "metadata": {
            "tags": []
          },
          "execution_count": 159
        }
      ]
    },
    {
      "cell_type": "code",
      "metadata": {
        "colab": {
          "base_uri": "https://localhost:8080/"
        },
        "id": "nECnqaDiwGfy",
        "outputId": "0a4e1f8c-041e-489e-8198-4750a2c518c9"
      },
      "source": [
        "# To find minimum value within each column specify 'axis=0'\r\n",
        "print(np.min(M, axis=0))\r\n",
        "\r\n",
        "# To find minimum value within each row specify 'axis=0'\r\n",
        "print(np.max(M, axis=1))"
      ],
      "execution_count": null,
      "outputs": [
        {
          "output_type": "stream",
          "text": [
            "[1 2 3]\n",
            "[3 6 9]\n"
          ],
          "name": "stdout"
        }
      ]
    },
    {
      "cell_type": "code",
      "metadata": {
        "colab": {
          "base_uri": "https://localhost:8080/"
        },
        "id": "AxB3P7m50i_8",
        "outputId": "4b08b692-7ad0-4edc-bb6c-d9337954e9d2"
      },
      "source": [
        "#Assume 'heights' to be a NumPy array containing heights in centimeters of 15 individuals\r\n",
        "\r\n",
        "heights = np.array([189, 170, 189, 163, 183, 171, 185, 168, 173, 183, 173, 173, 175, 178, 183])\r\n",
        "\r\n",
        "print(\"Heights:           \", heights)\r\n",
        "print(\"Mean height:       \", np.mean(heights))\r\n",
        "print(\"Standard deviation:\", np.std(heights))\r\n",
        "print(\"Minimum height:    \", np.min(heights))\r\n",
        "print(\"Maximum height:    \", np.max(heights))\r\n",
        "print(\"25th percentile:   \", np.percentile(heights, 25))\r\n",
        "print(\"Median:            \", np.median(heights))\r\n",
        "print(\"75th percentile:   \", np.percentile(heights, 75))"
      ],
      "execution_count": null,
      "outputs": [
        {
          "output_type": "stream",
          "text": [
            "Heights:            [189 170 189 163 183 171 185 168 173 183 173 173 175 178 183]\n",
            "Mean height:        177.06666666666666\n",
            "Standard deviation: 7.637335195530498\n",
            "Minimum height:     163\n",
            "Maximum height:     189\n",
            "25th percentile:    172.0\n",
            "Median:             175.0\n",
            "75th percentile:    183.0\n"
          ],
          "name": "stdout"
        }
      ]
    },
    {
      "cell_type": "markdown",
      "metadata": {
        "id": "ZhxsVZrTYapa"
      },
      "source": [
        "### Other aggregation functions\n",
        "\n",
        "NumPy provides many other aggregation functions, but we won't discuss them in detail here.\n",
        "Additionally, most aggregates have a ``NaN``-safe counterpart that computes the result while ignoring missing values, which are marked by the special IEEE floating-point ``NaN`` value (for a fuller discussion of missing data, see [Handling Missing Data](03.04-Missing-Values.ipynb)).\n",
        "Some of these ``NaN``-safe functions were not added until NumPy 1.8, so they will not be available in older NumPy versions.\n",
        "\n",
        "The following table provides a list of useful aggregation functions available in NumPy:\n",
        "\n",
        "|Function Name      |   NaN-safe Version  | Description                                   |\n",
        "|-------------------|---------------------|-----------------------------------------------|\n",
        "| ``np.sum``        | ``np.nansum``       | Compute sum of elements                       |\n",
        "| ``np.prod``       | ``np.nanprod``      | Compute product of elements                   |\n",
        "| ``np.mean``       | ``np.nanmean``      | Compute mean of elements                      |\n",
        "| ``np.std``        | ``np.nanstd``       | Compute standard deviation                    |\n",
        "| ``np.var``        | ``np.nanvar``       | Compute variance                              |\n",
        "| ``np.min``        | ``np.nanmin``       | Find minimum value                            |\n",
        "| ``np.max``        | ``np.nanmax``       | Find maximum value                            |\n",
        "| ``np.argmin``     | ``np.nanargmin``    | Find index of minimum value                   |\n",
        "| ``np.argmax``     | ``np.nanargmax``    | Find index of maximum value                   |\n",
        "| ``np.median``     | ``np.nanmedian``    | Compute median of elements                    |\n",
        "| ``np.percentile`` | ``np.nanpercentile``| Compute rank-based statistics of elements     |\n",
        "| ``np.any``        | N/A                 | Evaluate whether any elements are true        |\n",
        "| ``np.all``        | N/A                 | Evaluate whether all elements are true        |\n",
        "\n",
        "We will see these aggregates often throughout the rest of the book."
      ]
    },
    {
      "cell_type": "markdown",
      "metadata": {
        "id": "HdV5uqjZ0ZEm"
      },
      "source": [
        "# **Sorting Arrays**"
      ]
    },
    {
      "cell_type": "code",
      "metadata": {
        "colab": {
          "base_uri": "https://localhost:8080/"
        },
        "id": "Ko-lMZeq2q2X",
        "outputId": "5dc5d0d5-7bcd-48da-9144-4041181b0b5d"
      },
      "source": [
        "#Sort 'heights' array in the above section\r\n",
        "\r\n",
        "print(heights)\r\n",
        "print(np.sort(heights))"
      ],
      "execution_count": null,
      "outputs": [
        {
          "output_type": "stream",
          "text": [
            "[189 170 189 163 183 171 185 168 173 183 173 173 175 178 183]\n",
            "[163 168 170 171 173 173 173 175 178 183 183 183 185 189 189]\n"
          ],
          "name": "stdout"
        }
      ]
    },
    {
      "cell_type": "code",
      "metadata": {
        "colab": {
          "base_uri": "https://localhost:8080/"
        },
        "id": "izIe59iz20ws",
        "outputId": "2d658e72-2424-47ff-b2bc-e75b34721106"
      },
      "source": [
        "#A related function is 'argsort', which instead returns the indices of the sorted elements\r\n",
        "\r\n",
        "i = np.argsort(heights)\r\n",
        "print(i)"
      ],
      "execution_count": null,
      "outputs": [
        {
          "output_type": "stream",
          "text": [
            "[ 3  7  1  5  8 10 11 12 13  4  9 14  6  0  2]\n"
          ],
          "name": "stdout"
        }
      ]
    },
    {
      "cell_type": "code",
      "metadata": {
        "colab": {
          "base_uri": "https://localhost:8080/"
        },
        "id": "XsywgEhZ3AOM",
        "outputId": "e82311fb-5c09-4c5a-94c9-ae1fbaee1d8d"
      },
      "source": [
        "#Sorting along rows or columns\r\n",
        "\r\n",
        "rand = np.random.RandomState(42)\r\n",
        "X = rand.randint(0, 10, (4, 6))\r\n",
        "print(X)\r\n",
        "\r\n",
        "# sort each column of X\r\n",
        "print(\"\\n\", np.sort(X, axis=0))\r\n",
        "\r\n",
        "# sort each row of X\r\n",
        "print(\"\\n\", np.sort(X, axis=1))"
      ],
      "execution_count": null,
      "outputs": [
        {
          "output_type": "stream",
          "text": [
            "[[6 3 7 4 6 9]\n",
            " [2 6 7 4 3 7]\n",
            " [7 2 5 4 1 7]\n",
            " [5 1 4 0 9 5]]\n",
            "\n",
            " [[2 1 4 0 1 5]\n",
            " [5 2 5 4 3 7]\n",
            " [6 3 7 4 6 7]\n",
            " [7 6 7 4 9 9]]\n",
            "\n",
            " [[3 4 6 6 7 9]\n",
            " [2 3 4 6 7 7]\n",
            " [1 2 4 5 7 7]\n",
            " [0 1 4 5 5 9]]\n"
          ],
          "name": "stdout"
        }
      ]
    },
    {
      "cell_type": "markdown",
      "metadata": {
        "id": "SwiYqcNH4t80"
      },
      "source": [
        "# **Structured Data: NumPy's Structured Arrays**"
      ]
    },
    {
      "cell_type": "markdown",
      "metadata": {
        "id": "yMRd8oHT5I_T"
      },
      "source": [
        "Imagine that we have several categories of data on a number of people (say, name, age, and weight), and we'd like to store these values for use in a Python program. It would be possible to store these in three separate arrays."
      ]
    },
    {
      "cell_type": "code",
      "metadata": {
        "id": "zm9Ahpoh4zI4"
      },
      "source": [
        "name = ['Alice', 'Bob', 'Cathy', 'Doug']\r\n",
        "age = [25, 45, 37, 19]\r\n",
        "weight = [55.0, 85.5, 68.0, 61.5]"
      ],
      "execution_count": null,
      "outputs": []
    },
    {
      "cell_type": "markdown",
      "metadata": {
        "id": "704EZ_gw5VDM"
      },
      "source": [
        "But this is a bit clumsy. There's nothing here that tells us that the three arrays are related; it would be more natural if we could use a single structure to store all of this data. NumPy can handle this through structured arrays, which are arrays with compound data types."
      ]
    },
    {
      "cell_type": "code",
      "metadata": {
        "colab": {
          "base_uri": "https://localhost:8080/"
        },
        "id": "uWi9fgaT5X3C",
        "outputId": "e3a03357-3b43-4c8d-cbae-cd7983164c17"
      },
      "source": [
        "x = np.zeros(4, dtype=int)\r\n",
        "print(\"x          =\", x)\r\n",
        "\r\n",
        "# Use a compound data type for structured arrays\r\n",
        "# Here 'U10' translates to \"Unicode string of maximum length 10,\" \r\n",
        "#       'i4' translates to \"4-byte (i.e., 32 bit) integer,\" and \r\n",
        "#       'f8' translates to \"8-byte (i.e., 64 bit) float.\"\r\n",
        "data = np.zeros(4, dtype={'names':('name', 'age', 'weight'),\r\n",
        "                          'formats':('U10', 'i4', 'f8')})\r\n",
        "\r\n",
        "print(\"data       =\", data)\r\n",
        "print(\"data.dtype =\", data.dtype)"
      ],
      "execution_count": null,
      "outputs": [
        {
          "output_type": "stream",
          "text": [
            "x          = [0 0 0 0]\n",
            "data       = [('', 0, 0.) ('', 0, 0.) ('', 0, 0.) ('', 0, 0.)]\n",
            "data.dtype = [('name', '<U10'), ('age', '<i4'), ('weight', '<f8')]\n"
          ],
          "name": "stdout"
        }
      ]
    },
    {
      "cell_type": "code",
      "metadata": {
        "colab": {
          "base_uri": "https://localhost:8080/"
        },
        "id": "wn-Zxonc5aqP",
        "outputId": "daf5a1b0-6665-4ea5-d8e3-061a49fd8e21"
      },
      "source": [
        "#Fill the empty container array with our list values\r\n",
        "data['name'] = name\r\n",
        "data['age'] = age\r\n",
        "data['weight'] = weight\r\n",
        "print(data)"
      ],
      "execution_count": null,
      "outputs": [
        {
          "output_type": "stream",
          "text": [
            "[('Alice', 25, 55. ) ('Bob', 45, 85.5) ('Cathy', 37, 68. )\n",
            " ('Doug', 19, 61.5)]\n"
          ],
          "name": "stdout"
        }
      ]
    },
    {
      "cell_type": "code",
      "metadata": {
        "colab": {
          "base_uri": "https://localhost:8080/"
        },
        "id": "8uF_ZlY96TYm",
        "outputId": "47eb2164-e401-4d7a-f23a-b1d30b7f3917"
      },
      "source": [
        "# Get all names\r\n",
        "print(\"Names                      :\", data['name'])\r\n",
        "\r\n",
        "# Get first row of data\r\n",
        "print(\"First row of data          :\", data[0])\r\n",
        "\r\n",
        "# Get the name from the last row\r\n",
        "print(\"Name from last row         :\", data[-1]['name'])\r\n",
        "\r\n",
        "# Get names where age is under 30\r\n",
        "print(\"Names where age is under 30:\", data[data['age'] < 30]['name'])"
      ],
      "execution_count": null,
      "outputs": [
        {
          "output_type": "stream",
          "text": [
            "Names                      : ['Alice' 'Bob' 'Cathy' 'Doug']\n",
            "First row of data          : ('Alice', 25, 55.)\n",
            "Name from last row         : Doug\n",
            "Names where age is under 30: ['Alice' 'Doug']\n"
          ],
          "name": "stdout"
        }
      ]
    },
    {
      "cell_type": "markdown",
      "metadata": {
        "id": "2Rf8Z5FB0A0a"
      },
      "source": [
        "# **NumPy: Axes and Dimensions**"
      ]
    },
    {
      "cell_type": "code",
      "metadata": {
        "colab": {
          "base_uri": "https://localhost:8080/"
        },
        "id": "rByL26Z60m_O",
        "outputId": "e89bd681-ecd8-4ec6-ba40-23583d7fe361"
      },
      "source": [
        "#The vector has one axis since it is 1-dimensional. So you can only apply a \r\n",
        "#function across axis-0. Axes are always 0 indexed.\r\n",
        "\r\n",
        "np.sum([1,2,3,4], axis=0)"
      ],
      "execution_count": null,
      "outputs": [
        {
          "output_type": "execute_result",
          "data": {
            "text/plain": [
              "10"
            ]
          },
          "metadata": {
            "tags": []
          },
          "execution_count": 3
        }
      ]
    },
    {
      "cell_type": "code",
      "metadata": {
        "colab": {
          "base_uri": "https://localhost:8080/"
        },
        "id": "RXFQD5m-2b2Y",
        "outputId": "868d9203-29e1-4f82-e442-4ad8e86ed17c"
      },
      "source": [
        "#Matrix is a 2-dimensional data so it has 2 axes.\r\n",
        "\r\n",
        "#Applying sum function across columns\r\n",
        "data = np.array([[1,2,3], [4,5,6]])\r\n",
        "print(data)\r\n",
        "\r\n",
        "sum = np.sum(data, axis=0) \r\n",
        "print(\"\\n\", sum)\r\n",
        "\r\n",
        "#Applying sum function across rows\r\n",
        "sum = np.sum(data, axis=1)\r\n",
        "print(\"\\n\", sum)\r\n",
        "\r\n",
        "#Providing no axis in the arguments to get the sum of all elements together\r\n",
        "sum = np.sum(data)\r\n",
        "print(\"\\n\", sum)"
      ],
      "execution_count": 43,
      "outputs": [
        {
          "output_type": "stream",
          "text": [
            "[[1 2 3]\n",
            " [4 5 6]]\n",
            "\n",
            " [5 7 9]\n",
            "\n",
            " [ 6 15]\n",
            "\n",
            " 21\n"
          ],
          "name": "stdout"
        }
      ]
    },
    {
      "cell_type": "code",
      "metadata": {
        "colab": {
          "base_uri": "https://localhost:8080/"
        },
        "id": "q9NWoJ-c3FL_",
        "outputId": "cb204680-2344-476c-d361-41417cc7bc3b"
      },
      "source": [
        "#3-Dimensional data (Concept)\r\n",
        "#3D data is a collection of 2D data-points(matrix).\r\n",
        "\r\n",
        "#1. Applying sum function across axis-0 means you are summing all matrices together.\r\n",
        "#2. Applying sum function across axis-1 means you are summing all vectors inside each metrics.\r\n",
        "#3. Applying sum function across axis-2 means you are summing all scalars inside each Vector.\r\n",
        "\r\n",
        "data = np.array([[[1,1,1],\r\n",
        "                  [3,3,3]], \r\n",
        "                 \r\n",
        "                 [[2,2,2], \r\n",
        "                  [4,4,4]]])\r\n",
        "\r\n",
        "print(data)\r\n",
        "\r\n",
        "sum = np.sum(data, axis=0) \r\n",
        "print(\"\\n Output of axis=0:\\n\", sum)\r\n",
        "\r\n",
        "sum = np.sum(data, axis=1) \r\n",
        "print(\"\\n Output of axis=1:\\n\", sum)\r\n",
        "\r\n",
        "sum = np.sum(data, axis=2) \r\n",
        "print(\"\\n Output of axis=2:\\n\", sum)"
      ],
      "execution_count": null,
      "outputs": [
        {
          "output_type": "stream",
          "text": [
            "[[[1 1 1]\n",
            "  [3 3 3]]\n",
            "\n",
            " [[2 2 2]\n",
            "  [4 4 4]]]\n",
            "\n",
            " Output of axis=0:\n",
            " [[3 3 3]\n",
            " [7 7 7]]\n",
            "\n",
            " Output of axis=1:\n",
            " [[4 4 4]\n",
            " [6 6 6]]\n",
            "\n",
            " Output of axis=2:\n",
            " [[ 3  9]\n",
            " [ 6 12]]\n"
          ],
          "name": "stdout"
        }
      ]
    }
  ]
}